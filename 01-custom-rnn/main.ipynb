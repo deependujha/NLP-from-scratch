{
 "cells": [
  {
   "cell_type": "code",
   "execution_count": 1,
   "metadata": {},
   "outputs": [
    {
     "name": "stdout",
     "output_type": "stream",
     "text": [
      "['data/names/Czech.txt', 'data/names/German.txt', 'data/names/Arabic.txt', 'data/names/Japanese.txt', 'data/names/Chinese.txt', 'data/names/Vietnamese.txt', 'data/names/Russian.txt', 'data/names/French.txt', 'data/names/Irish.txt', 'data/names/English.txt', 'data/names/Spanish.txt', 'data/names/Greek.txt', 'data/names/Italian.txt', 'data/names/Portuguese.txt', 'data/names/Scottish.txt', 'data/names/Dutch.txt', 'data/names/Korean.txt', 'data/names/Polish.txt']\n"
     ]
    }
   ],
   "source": [
    "from io import open\n",
    "import glob\n",
    "import os\n",
    "\n",
    "\n",
    "def findFiles(path):\n",
    "    return glob.glob(path)\n",
    "\n",
    "\n",
    "print(findFiles(\"data/names/*.txt\"))"
   ]
  },
  {
   "cell_type": "code",
   "execution_count": 2,
   "metadata": {},
   "outputs": [
    {
     "name": "stdout",
     "output_type": "stream",
     "text": [
      "all_letters=\"abcdefghijklmnopqrstuvwxyzABCDEFGHIJKLMNOPQRSTUVWXYZ .,;'\";\n",
      "n_letters=57\n"
     ]
    }
   ],
   "source": [
    "import unicodedata\n",
    "import string\n",
    "\n",
    "all_letters = string.ascii_letters + \" .,;'\"\n",
    "n_letters = len(all_letters)\n",
    "\n",
    "print(f\"{all_letters=};\\n{n_letters=}\")"
   ]
  },
  {
   "cell_type": "code",
   "execution_count": 3,
   "metadata": {},
   "outputs": [
    {
     "name": "stdout",
     "output_type": "stream",
     "text": [
      "Slusarski\n"
     ]
    }
   ],
   "source": [
    "# Turn a Unicode string to plain ASCII, thanks to https://stackoverflow.com/a/518232/2809427\n",
    "def unicodeToAscii(s):\n",
    "    return \"\".join(\n",
    "        c\n",
    "        for c in unicodedata.normalize(\"NFD\", s)\n",
    "        if unicodedata.category(c) != \"Mn\" and c in all_letters\n",
    "    )\n",
    "\n",
    "\n",
    "print(unicodeToAscii(\"Ślusàrski\"))"
   ]
  },
  {
   "cell_type": "code",
   "execution_count": 4,
   "metadata": {},
   "outputs": [
    {
     "name": "stdout",
     "output_type": "stream",
     "text": [
      "category='Czech'\n",
      "category='German'\n",
      "category='Arabic'\n",
      "category='Japanese'\n",
      "category='Chinese'\n",
      "category='Vietnamese'\n",
      "category='Russian'\n",
      "category='French'\n",
      "category='Irish'\n",
      "category='English'\n",
      "category='Spanish'\n",
      "category='Greek'\n",
      "category='Italian'\n",
      "category='Portuguese'\n",
      "category='Scottish'\n",
      "category='Dutch'\n",
      "category='Korean'\n",
      "category='Polish'\n",
      "n_categories=18\n"
     ]
    }
   ],
   "source": [
    "# Build the category_lines dictionary, a list of names per language\n",
    "category_lines = {}\n",
    "all_categories = []\n",
    "\n",
    "\n",
    "# Read a file and split into lines\n",
    "def readLines(filename):\n",
    "    lines = open(filename, encoding=\"utf-8\").read().strip().split(\"\\n\")\n",
    "    return [unicodeToAscii(line) for line in lines]\n",
    "\n",
    "\n",
    "for filename in findFiles(\"data/names/*.txt\"):\n",
    "    category = os.path.splitext(os.path.basename(filename))[0]\n",
    "    print(f\"{category=}\")\n",
    "    all_categories.append(category)\n",
    "    lines = readLines(filename)\n",
    "    category_lines[category] = lines\n",
    "\n",
    "n_categories = len(all_categories)\n",
    "print(f\"{n_categories=}\")"
   ]
  },
  {
   "cell_type": "code",
   "execution_count": 5,
   "metadata": {},
   "outputs": [
    {
     "name": "stdout",
     "output_type": "stream",
     "text": [
      "['Abandonato', 'Abatangelo', 'Abatantuono', 'Abate', 'Abategiovanni']\n"
     ]
    }
   ],
   "source": [
    "print(category_lines[\"Italian\"][:5])"
   ]
  },
  {
   "cell_type": "code",
   "execution_count": 6,
   "metadata": {},
   "outputs": [
    {
     "name": "stdout",
     "output_type": "stream",
     "text": [
      "tensor([[0., 0., 0., 0., 0., 0., 0., 0., 0., 0., 0., 0., 0., 0., 0., 0., 0., 0.,\n",
      "         0., 0., 0., 0., 0., 0., 0., 0., 0., 0., 0., 0., 0., 0., 0., 0., 0., 1.,\n",
      "         0., 0., 0., 0., 0., 0., 0., 0., 0., 0., 0., 0., 0., 0., 0., 0., 0., 0.,\n",
      "         0., 0., 0.]])\n",
      "torch.Size([5, 1, 57])\n"
     ]
    }
   ],
   "source": [
    "import torch\n",
    "\n",
    "\n",
    "# Find letter index from all_letters, e.g. \"a\" = 0\n",
    "def letterToIndex(letter):\n",
    "    return all_letters.find(letter)\n",
    "\n",
    "\n",
    "# Just for demonstration, turn a letter into a <1 x n_letters> Tensor\n",
    "def letterToTensor(letter):\n",
    "    tensor = torch.zeros(1, n_letters)\n",
    "    tensor[0][letterToIndex(letter)] = 1\n",
    "    return tensor\n",
    "\n",
    "\n",
    "# Turn a line into a <line_length x 1 x n_letters>,\n",
    "# or an array of one-hot letter vectors\n",
    "def lineToTensor(line):\n",
    "    tensor = torch.zeros(len(line), 1, n_letters)\n",
    "    for li, letter in enumerate(line):\n",
    "        tensor[li][0][letterToIndex(letter)] = 1\n",
    "    return tensor\n",
    "\n",
    "\n",
    "print(letterToTensor(\"J\"))\n",
    "\n",
    "print(lineToTensor(\"Jones\").size())"
   ]
  },
  {
   "cell_type": "code",
   "execution_count": 7,
   "metadata": {},
   "outputs": [
    {
     "name": "stdout",
     "output_type": "stream",
     "text": [
      "n_letters=57; n_hidden=128; n_categories=18\n"
     ]
    }
   ],
   "source": [
    "import torch.nn as nn\n",
    "\n",
    "\n",
    "class RNN(nn.Module):\n",
    "    def __init__(self, input_size, hidden_size, output_size):\n",
    "        super(RNN, self).__init__()\n",
    "\n",
    "        self.hidden_size = hidden_size\n",
    "\n",
    "        self.i2h = nn.Linear(input_size + hidden_size, hidden_size)\n",
    "        self.h2o = nn.Linear(hidden_size, output_size)\n",
    "        self.softmax = nn.LogSoftmax(dim=1)\n",
    "\n",
    "    def forward(self, input, hidden):\n",
    "        combined = torch.cat((input, hidden), 1)\n",
    "        hidden = self.i2h(combined)\n",
    "        output = self.h2o(hidden)\n",
    "        output = self.softmax(output)\n",
    "        return output, hidden\n",
    "\n",
    "    def initHidden(self):\n",
    "        return torch.zeros(1, self.hidden_size)\n",
    "\n",
    "\n",
    "n_hidden = 128\n",
    "rnn = RNN(n_letters, n_hidden, n_categories)\n",
    "print(f\"{n_letters=}; {n_hidden=}; {n_categories=}\")"
   ]
  },
  {
   "cell_type": "code",
   "execution_count": 8,
   "metadata": {},
   "outputs": [
    {
     "name": "stdout",
     "output_type": "stream",
     "text": [
      "input.size()=torch.Size([1, 57]); input=tensor([[0., 0., 0., 0., 0., 0., 0., 0., 0., 0., 0., 0., 0., 0., 0., 0., 0., 0.,\n",
      "         0., 0., 0., 0., 0., 0., 0., 0., 1., 0., 0., 0., 0., 0., 0., 0., 0., 0.,\n",
      "         0., 0., 0., 0., 0., 0., 0., 0., 0., 0., 0., 0., 0., 0., 0., 0., 0., 0.,\n",
      "         0., 0., 0.]])\n",
      "output.size()=torch.Size([1, 18]); output=tensor([[-2.9645, -2.8338, -2.9324, -2.7787, -2.9563, -2.8606, -2.8894, -2.7522,\n",
      "         -2.8981, -2.8209, -2.9941, -2.8392, -2.9790, -2.8722, -3.0186, -2.9279,\n",
      "         -2.9582, -2.8028]], grad_fn=<LogSoftmaxBackward0>)\n",
      "next_hidden.size()=torch.Size([1, 128]); next_hidden=tensor([[ 0.0655,  0.0091,  0.0216,  0.0788,  0.0222, -0.0261, -0.0041,  0.0241,\n",
      "          0.0436,  0.1163,  0.0719, -0.0428, -0.0488,  0.1148,  0.0235, -0.0787,\n",
      "         -0.0464,  0.0430, -0.0105,  0.0376,  0.0026, -0.0177, -0.0623,  0.0189,\n",
      "          0.0655, -0.0151, -0.0635, -0.0363,  0.1008, -0.0631,  0.0229, -0.1316,\n",
      "         -0.0387,  0.0006,  0.0110, -0.0033,  0.0149, -0.0132,  0.0272, -0.0028,\n",
      "         -0.0507,  0.0616, -0.0963, -0.0107,  0.0254, -0.0807,  0.0381, -0.0309,\n",
      "         -0.0533, -0.0746, -0.0651, -0.0317,  0.0305,  0.0468,  0.0289, -0.0145,\n",
      "         -0.0920, -0.0642, -0.1087, -0.0253,  0.1208,  0.0299, -0.0610,  0.0526,\n",
      "         -0.0265, -0.0513, -0.0757,  0.0503,  0.0339,  0.0053,  0.0358, -0.0504,\n",
      "          0.1182,  0.0340,  0.0059,  0.0719,  0.0024, -0.0342, -0.0309, -0.0302,\n",
      "         -0.0068,  0.0278,  0.0638,  0.0022, -0.0161, -0.0174, -0.1292, -0.0492,\n",
      "          0.0168,  0.0528,  0.0004, -0.0080, -0.0733, -0.0175, -0.0477,  0.0076,\n",
      "          0.0619,  0.0292, -0.0021,  0.0595, -0.0326,  0.0250, -0.0501, -0.0395,\n",
      "          0.0832,  0.0372,  0.0922,  0.0253,  0.0844, -0.0566, -0.0116,  0.0353,\n",
      "         -0.0612, -0.0049, -0.0138, -0.0382,  0.0716, -0.1140,  0.0531,  0.0283,\n",
      "         -0.0561,  0.0309, -0.0477,  0.0015,  0.0167, -0.0434, -0.0215, -0.0423]],\n",
      "       grad_fn=<AddmmBackward0>)\n"
     ]
    }
   ],
   "source": [
    "input = letterToTensor(\"A\")\n",
    "print(f\"{input.size()=}; {input=}\")\n",
    "\n",
    "hidden = torch.zeros(1, n_hidden)\n",
    "\n",
    "output, next_hidden = rnn(input, hidden)\n",
    "print(f\"{output.size()=}; {output=}\")\n",
    "print(f\"{next_hidden.size()=}; {next_hidden=}\")"
   ]
  },
  {
   "cell_type": "code",
   "execution_count": 9,
   "metadata": {},
   "outputs": [
    {
     "name": "stdout",
     "output_type": "stream",
     "text": [
      "tensor([[-2.9645, -2.8338, -2.9324, -2.7787, -2.9563, -2.8606, -2.8894, -2.7522,\n",
      "         -2.8981, -2.8209, -2.9941, -2.8392, -2.9790, -2.8722, -3.0186, -2.9279,\n",
      "         -2.9582, -2.8028]], grad_fn=<LogSoftmaxBackward0>)\n"
     ]
    }
   ],
   "source": [
    "input = lineToTensor(\"Albert\")\n",
    "hidden = torch.zeros(1, n_hidden)\n",
    "\n",
    "output, next_hidden = rnn(input[0], hidden)\n",
    "print(output)"
   ]
  },
  {
   "cell_type": "code",
   "execution_count": 10,
   "metadata": {},
   "outputs": [
    {
     "name": "stdout",
     "output_type": "stream",
     "text": [
      "('French', 7)\n"
     ]
    }
   ],
   "source": [
    "def categoryFromOutput(output):\n",
    "    top_n, top_i = output.topk(1) # returns tuple(values, indices)\n",
    "    category_i = top_i[0].item()\n",
    "    return all_categories[category_i], category_i\n",
    "\n",
    "\n",
    "print(categoryFromOutput(output))"
   ]
  },
  {
   "cell_type": "code",
   "execution_count": 11,
   "metadata": {},
   "outputs": [
    {
     "name": "stdout",
     "output_type": "stream",
     "text": [
      "category = Russian / line = Pecheritsa\n",
      "category_tensor.size()=torch.Size([1]); category_tensor=tensor([6])\n",
      "line_tensor.size()=torch.Size([10, 1, 57])\n",
      "-----------------------------------------\n",
      "category = Dutch / line = Daal\n",
      "category_tensor.size()=torch.Size([1]); category_tensor=tensor([15])\n",
      "line_tensor.size()=torch.Size([4, 1, 57])\n",
      "-----------------------------------------\n",
      "category = Italian / line = Bagni\n",
      "category_tensor.size()=torch.Size([1]); category_tensor=tensor([12])\n",
      "line_tensor.size()=torch.Size([5, 1, 57])\n",
      "-----------------------------------------\n",
      "category = English / line = Thurston\n",
      "category_tensor.size()=torch.Size([1]); category_tensor=tensor([9])\n",
      "line_tensor.size()=torch.Size([8, 1, 57])\n",
      "-----------------------------------------\n",
      "category = German / line = Straub\n",
      "category_tensor.size()=torch.Size([1]); category_tensor=tensor([1])\n",
      "line_tensor.size()=torch.Size([6, 1, 57])\n",
      "-----------------------------------------\n",
      "category = German / line = Krauss\n",
      "category_tensor.size()=torch.Size([1]); category_tensor=tensor([1])\n",
      "line_tensor.size()=torch.Size([6, 1, 57])\n",
      "-----------------------------------------\n",
      "category = Korean / line = Koo\n",
      "category_tensor.size()=torch.Size([1]); category_tensor=tensor([16])\n",
      "line_tensor.size()=torch.Size([3, 1, 57])\n",
      "-----------------------------------------\n",
      "category = Japanese / line = Kawatake\n",
      "category_tensor.size()=torch.Size([1]); category_tensor=tensor([3])\n",
      "line_tensor.size()=torch.Size([8, 1, 57])\n",
      "-----------------------------------------\n",
      "category = Polish / line = Wawrzaszek\n",
      "category_tensor.size()=torch.Size([1]); category_tensor=tensor([17])\n",
      "line_tensor.size()=torch.Size([10, 1, 57])\n",
      "-----------------------------------------\n",
      "category = Scottish / line = Scott\n",
      "category_tensor.size()=torch.Size([1]); category_tensor=tensor([14])\n",
      "line_tensor.size()=torch.Size([5, 1, 57])\n",
      "-----------------------------------------\n"
     ]
    }
   ],
   "source": [
    "import random\n",
    "\n",
    "\n",
    "def randomChoice(l):\n",
    "    return l[random.randint(0, len(l) - 1)]\n",
    "\n",
    "\n",
    "def randomTrainingExample():\n",
    "    category = randomChoice(all_categories)\n",
    "    line = randomChoice(category_lines[category])\n",
    "    category_tensor = torch.tensor([all_categories.index(category)], dtype=torch.long)\n",
    "    line_tensor = lineToTensor(line)\n",
    "    return category, line, category_tensor, line_tensor\n",
    "\n",
    "\n",
    "for i in range(10):\n",
    "    category, line, category_tensor, line_tensor = randomTrainingExample()\n",
    "    print(\"category =\", category, \"/ line =\", line)\n",
    "    print(f\"{category_tensor.size()=}; {category_tensor=}\")\n",
    "    print(f\"{line_tensor.size()=}\")\n",
    "    print(\"-----------------------------------------\")"
   ]
  },
  {
   "cell_type": "code",
   "execution_count": 12,
   "metadata": {},
   "outputs": [],
   "source": [
    "criterion = nn.NLLLoss()"
   ]
  },
  {
   "cell_type": "code",
   "execution_count": 13,
   "metadata": {},
   "outputs": [],
   "source": [
    "learning_rate = (\n",
    "    0.005  # If you set this too high, it might explode. If too low, it might not learn\n",
    ")\n",
    "\n",
    "\n",
    "def train(category_tensor, line_tensor):\n",
    "    hidden = rnn.initHidden()\n",
    "\n",
    "    rnn.zero_grad()\n",
    "\n",
    "    for i in range(line_tensor.size()[0]):\n",
    "        output, hidden = rnn(line_tensor[i], hidden)\n",
    "\n",
    "    loss = criterion(output, category_tensor)\n",
    "    loss.backward()\n",
    "\n",
    "    # Add parameters' gradients to their values, multiplied by learning rate\n",
    "    for p in rnn.parameters():\n",
    "        p.data.add_(p.grad.data, alpha=-learning_rate)\n",
    "\n",
    "    return output, loss.item()"
   ]
  },
  {
   "cell_type": "code",
   "execution_count": 14,
   "metadata": {},
   "outputs": [
    {
     "name": "stdout",
     "output_type": "stream",
     "text": [
      "5000 5% (0m 1s) 1.4118 Manos / Greek ✓\n",
      "10000 10% (0m 3s) 1.1924 Suh / Vietnamese ✗ (Korean)\n",
      "15000 15% (0m 5s) 1.0546 Kinashita / Japanese ✓\n",
      "20000 20% (0m 7s) 0.9795 Huerta / Spanish ✓\n",
      "25000 25% (0m 9s) 1.3394 Dubhshlaine / Irish ✓\n",
      "30000 30% (0m 11s) 1.1487 Kucharova / Czech ✓\n",
      "35000 35% (0m 13s) 0.1353 Kikutake / Japanese ✓\n",
      "40000 40% (0m 15s) 0.8641 Kokoris / Russian ✗ (Greek)\n",
      "45000 45% (0m 16s) 3.2910 Chromy / Arabic ✗ (Czech)\n",
      "50000 50% (0m 18s) 0.1574 Kanaan / Arabic ✓\n",
      "55000 55% (0m 20s) 2.9231 Foss / Greek ✗ (French)\n",
      "60000 60% (0m 22s) 3.3959 Laar / Arabic ✗ (Dutch)\n",
      "65000 65% (0m 24s) 0.0607 Thao / Vietnamese ✓\n",
      "70000 70% (0m 26s) 1.4917 Rios / Greek ✗ (Portuguese)\n",
      "75000 75% (0m 28s) 0.1299 Filippi / Italian ✓\n",
      "80000 80% (0m 29s) 2.4238 Bonaventura / Portuguese ✗ (Spanish)\n",
      "85000 85% (0m 31s) 0.0184 Stavropoulos / Greek ✓\n",
      "90000 90% (0m 33s) 0.9189 Ferreira / Italian ✗ (Portuguese)\n",
      "95000 95% (0m 35s) 6.0030 Macdermott / Dutch ✗ (Irish)\n",
      "100000 100% (0m 37s) 3.3110 Kappel / Czech ✗ (German)\n"
     ]
    }
   ],
   "source": [
    "import time\n",
    "import math\n",
    "\n",
    "n_iters = 100000\n",
    "print_every = 5000\n",
    "plot_every = 1000\n",
    "\n",
    "\n",
    "# Keep track of losses for plotting\n",
    "current_loss = 0\n",
    "all_losses = []\n",
    "\n",
    "\n",
    "def timeSince(since):\n",
    "    now = time.time()\n",
    "    s = now - since\n",
    "    m = math.floor(s / 60)\n",
    "    s -= m * 60\n",
    "    return \"%dm %ds\" % (m, s)\n",
    "\n",
    "\n",
    "start = time.time()\n",
    "\n",
    "for iter in range(1, n_iters + 1):\n",
    "    category, line, category_tensor, line_tensor = randomTrainingExample()\n",
    "    output, loss = train(category_tensor, line_tensor)\n",
    "    current_loss += loss\n",
    "\n",
    "    # Print ``iter`` number, loss, name and guess\n",
    "    if iter % print_every == 0:\n",
    "        guess, guess_i = categoryFromOutput(output)\n",
    "        correct = \"✓\" if guess == category else \"✗ (%s)\" % category\n",
    "        print(\n",
    "            \"%d %d%% (%s) %.4f %s / %s %s\"\n",
    "            % (iter, iter / n_iters * 100, timeSince(start), loss, line, guess, correct)\n",
    "        )\n",
    "\n",
    "    # Add current loss avg to list of losses\n",
    "    if iter % plot_every == 0:\n",
    "        all_losses.append(current_loss / plot_every)\n",
    "        current_loss = 0"
   ]
  },
  {
   "cell_type": "code",
   "execution_count": 15,
   "metadata": {},
   "outputs": [
    {
     "data": {
      "text/plain": [
       "[<matplotlib.lines.Line2D at 0x12cd88280>]"
      ]
     },
     "execution_count": 15,
     "metadata": {},
     "output_type": "execute_result"
    },
    {
     "data": {
      "image/png": "[encoded data removed]",
      "text/plain": [
       "<Figure size 640x480 with 1 Axes>"
      ]
     },
     "metadata": {},
     "output_type": "display_data"
    }
   ],
   "source": [
    "import matplotlib.pyplot as plt\n",
    "import matplotlib.ticker as ticker\n",
    "\n",
    "plt.figure()\n",
    "plt.plot(all_losses)"
   ]
  },
  {
   "cell_type": "code",
   "execution_count": 16,
   "metadata": {},
   "outputs": [
    {
     "name": "stderr",
     "output_type": "stream",
     "text": [
      "/var/folders/62/sqk699ld69v13ny7hdx8n4980000gn/T/ipykernel_88089/2887250372.py:35: UserWarning: set_ticklabels() should only be used with a fixed number of ticks, i.e. after set_ticks() or using a FixedLocator.\n",
      "  ax.set_xticklabels([\"\"] + all_categories, rotation=90)\n",
      "/var/folders/62/sqk699ld69v13ny7hdx8n4980000gn/T/ipykernel_88089/2887250372.py:36: UserWarning: set_ticklabels() should only be used with a fixed number of ticks, i.e. after set_ticks() or using a FixedLocator.\n",
      "  ax.set_yticklabels([\"\"] + all_categories)\n"
     ]
    },
    {
     "data": {
      "image/png": "[encoded data removed]",
      "text/plain": [
       "<Figure size 640x480 with 2 Axes>"
      ]
     },
     "metadata": {},
     "output_type": "display_data"
    }
   ],
   "source": [
    "# Keep track of correct guesses in a confusion matrix\n",
    "confusion = torch.zeros(n_categories, n_categories)\n",
    "n_confusion = 10000\n",
    "\n",
    "\n",
    "# Just return an output given a line\n",
    "def evaluate(line_tensor):\n",
    "    hidden = rnn.initHidden()\n",
    "\n",
    "    for i in range(line_tensor.size()[0]):\n",
    "        output, hidden = rnn(line_tensor[i], hidden)\n",
    "\n",
    "    return output\n",
    "\n",
    "\n",
    "# Go through a bunch of examples and record which are correctly guessed\n",
    "for i in range(n_confusion):\n",
    "    category, line, category_tensor, line_tensor = randomTrainingExample()\n",
    "    output = evaluate(line_tensor)\n",
    "    guess, guess_i = categoryFromOutput(output)\n",
    "    category_i = all_categories.index(category)\n",
    "    confusion[category_i][guess_i] += 1\n",
    "\n",
    "# Normalize by dividing every row by its sum\n",
    "for i in range(n_categories):\n",
    "    confusion[i] = confusion[i] / confusion[i].sum()\n",
    "\n",
    "# Set up plot\n",
    "fig = plt.figure()\n",
    "ax = fig.add_subplot(111)\n",
    "cax = ax.matshow(confusion.numpy())\n",
    "fig.colorbar(cax)\n",
    "\n",
    "# Set up axes\n",
    "ax.set_xticklabels([\"\"] + all_categories, rotation=90)\n",
    "ax.set_yticklabels([\"\"] + all_categories)\n",
    "\n",
    "# Force label at every tick\n",
    "ax.xaxis.set_major_locator(ticker.MultipleLocator(1))\n",
    "ax.yaxis.set_major_locator(ticker.MultipleLocator(1))\n",
    "\n",
    "# sphinx_gallery_thumbnail_number = 2\n",
    "plt.show()"
   ]
  },
  {
   "cell_type": "code",
   "execution_count": 17,
   "metadata": {},
   "outputs": [
    {
     "name": "stdout",
     "output_type": "stream",
     "text": [
      "\n",
      "> Dovesky\n",
      "(-1.03) Czech\n",
      "(-1.37) Russian\n",
      "(-1.51) English\n",
      "\n",
      "> Jackson\n",
      "(-0.06) Scottish\n",
      "(-3.22) English\n",
      "(-4.89) French\n",
      "\n",
      "> Satoshi\n",
      "(-1.08) Japanese\n",
      "(-1.27) Italian\n",
      "(-2.49) Portuguese\n"
     ]
    }
   ],
   "source": [
    "def predict(input_line, n_predictions=3):\n",
    "    print(\"\\n> %s\" % input_line)\n",
    "    with torch.no_grad():\n",
    "        output = evaluate(lineToTensor(input_line))\n",
    "\n",
    "        # Get top N categories\n",
    "        topv, topi = output.topk(n_predictions, 1, True)\n",
    "        predictions = []\n",
    "\n",
    "        for i in range(n_predictions):\n",
    "            value = topv[0][i].item()\n",
    "            category_index = topi[0][i].item()\n",
    "            print(\"(%.2f) %s\" % (value, all_categories[category_index]))\n",
    "            predictions.append([value, all_categories[category_index]])\n",
    "\n",
    "\n",
    "predict(\"Dovesky\")\n",
    "predict(\"Jackson\")\n",
    "predict(\"Satoshi\")"
   ]
  },
  {
   "cell_type": "code",
   "execution_count": 18,
   "metadata": {},
   "outputs": [
    {
     "name": "stdout",
     "output_type": "stream",
     "text": [
      "\n",
      "> Deependu\n",
      "(-1.18) French\n",
      "(-1.72) Dutch\n",
      "(-2.39) English\n",
      "\n",
      "> Nepali\n",
      "(-1.05) Italian\n",
      "(-1.59) Japanese\n",
      "(-2.03) Polish\n"
     ]
    }
   ],
   "source": [
    "predict(\"Deependu\")\n",
    "predict(\"Nepali\")"
   ]
  },
  {
   "cell_type": "markdown",
   "metadata": {},
   "source": [
    "## Save model"
   ]
  },
  {
   "cell_type": "code",
   "execution_count": 21,
   "metadata": {},
   "outputs": [],
   "source": [
    "import torch\n",
    "\n",
    "torch.save(rnn, \"rnn.pth\")\n",
    "torch.save(rnn.state_dict(), \"rnn_state_dict.pth\")"
   ]
  },
  {
   "cell_type": "markdown",
   "metadata": {},
   "source": [
    "---\n",
    "\n",
    "## load model"
   ]
  },
  {
   "cell_type": "code",
   "execution_count": 20,
   "metadata": {},
   "outputs": [
    {
     "data": {
      "text/plain": [
       "RNN(\n",
       "  (i2h): Linear(in_features=185, out_features=128, bias=True)\n",
       "  (h2o): Linear(in_features=128, out_features=18, bias=True)\n",
       "  (softmax): LogSoftmax(dim=1)\n",
       ")"
      ]
     },
     "execution_count": 20,
     "metadata": {},
     "output_type": "execute_result"
    }
   ],
   "source": [
    "import torch\n",
    "\n",
    "my_loaded_rnn_model = torch.load(\"rnn.pth\")\n",
    "\n",
    "my_loaded_rnn_model"
   ]
  },
  {
   "cell_type": "code",
   "execution_count": 22,
   "metadata": {},
   "outputs": [],
   "source": [
    "my_loaded_rnn_model_with_state_dict = torch.load(\"rnn_state_dict.pth\")"
   ]
  },
  {
   "cell_type": "code",
   "execution_count": 25,
   "metadata": {},
   "outputs": [
    {
     "data": {
      "text/plain": [
       "OrderedDict([('i2h.weight',\n",
       "              tensor([[ 0.0394, -0.1910, -0.3811,  ..., -0.0807,  0.0623, -0.0586],\n",
       "                      [-0.3206, -0.0413,  0.4377,  ...,  0.0183, -0.0608, -0.1001],\n",
       "                      [-0.2227, -0.0488,  0.1140,  ..., -0.0342, -0.0136, -0.0205],\n",
       "                      ...,\n",
       "                      [ 0.0169, -0.0245,  0.0186,  ..., -0.0360,  0.0686, -0.0463],\n",
       "                      [-0.2622, -0.2962, -0.1903,  ...,  0.1018,  0.1257,  0.0019],\n",
       "                      [-0.0905,  0.0034,  0.1784,  ...,  0.0237,  0.0638,  0.0783]])),\n",
       "             ('i2h.bias',\n",
       "              tensor([-7.4683e-02,  1.2098e-01,  5.3110e-02,  5.2940e-02, -1.5987e-03,\n",
       "                      -6.1267e-02,  7.1552e-02, -5.1792e-02,  4.5295e-03,  1.1023e-01,\n",
       "                       7.2485e-03, -6.2013e-02, -5.8089e-02,  5.6327e-02,  6.6867e-02,\n",
       "                      -3.7424e-02, -6.4154e-02, -2.4385e-02,  3.5370e-02,  7.3034e-03,\n",
       "                      -7.0390e-02, -4.9995e-02,  4.2314e-02, -1.1046e-01, -7.0188e-02,\n",
       "                       2.0105e-02, -6.5919e-02, -6.9652e-02,  3.2341e-02, -1.4515e-01,\n",
       "                       5.8288e-04,  6.3789e-02, -3.6139e-02, -1.9023e-02, -6.1497e-02,\n",
       "                       4.8507e-02,  4.1411e-03,  2.9450e-02,  1.7481e-02, -3.2064e-02,\n",
       "                       2.0766e-02,  4.5886e-02, -6.1352e-02, -2.7229e-02,  1.6260e-01,\n",
       "                      -4.7403e-02, -9.1944e-02,  2.9397e-02,  1.4879e-02, -7.4639e-02,\n",
       "                       3.4343e-02,  3.8507e-02, -4.3042e-02,  1.7172e-03, -1.2095e-01,\n",
       "                      -7.8502e-02, -4.8986e-02,  2.5250e-03, -2.9049e-03,  1.4708e-02,\n",
       "                      -8.5474e-02, -1.0207e-01, -6.4823e-02,  5.0173e-02,  8.6268e-02,\n",
       "                      -1.1377e-01, -4.6861e-03, -3.9393e-02,  3.7543e-02,  9.9932e-02,\n",
       "                       4.9746e-02, -1.3973e-02, -9.8868e-03,  9.3544e-02, -6.1705e-02,\n",
       "                       6.6646e-02, -3.3708e-02,  6.8694e-02, -7.1492e-02,  7.8453e-02,\n",
       "                       2.5117e-02, -3.6665e-02,  6.3167e-02,  3.9553e-02, -9.5321e-03,\n",
       "                       3.4194e-02, -1.8051e-02, -8.2354e-03,  5.3025e-02,  2.7033e-02,\n",
       "                      -3.9264e-02, -9.7371e-02,  8.6511e-02,  7.5393e-02,  1.2553e-02,\n",
       "                      -3.6430e-02,  1.1503e-03, -5.2223e-02,  1.1312e-01,  1.0355e-01,\n",
       "                       2.8175e-03, -1.1632e-01,  4.1184e-02, -1.8023e-02, -2.4752e-02,\n",
       "                       5.6479e-02, -1.8080e-02,  9.1346e-03,  7.0328e-02, -1.2055e-02,\n",
       "                      -3.3670e-02,  2.5936e-02,  1.0280e-01,  5.1631e-02, -9.7073e-02,\n",
       "                       5.9201e-03,  6.8261e-02, -1.2379e-01, -4.7983e-02,  1.3246e-03,\n",
       "                       2.0991e-02,  7.3678e-02, -8.5843e-05,  5.1120e-02, -5.8997e-03,\n",
       "                      -8.8422e-02,  6.1475e-02,  2.3405e-03])),\n",
       "             ('h2o.weight',\n",
       "              tensor([[-1.0908e-01,  4.4276e-02,  1.8755e-01,  ...,  6.4965e-02,\n",
       "                       -4.4678e-02, -2.0874e-01],\n",
       "                      [-5.2774e-03,  1.2991e-01,  3.3736e-02,  ...,  2.0054e-04,\n",
       "                        1.3998e-01,  1.7633e-01],\n",
       "                      [-1.5990e-01, -2.4169e-01, -3.1920e-01,  ...,  1.7104e-01,\n",
       "                       -4.9865e-01,  1.6144e-01],\n",
       "                      ...,\n",
       "                      [ 3.8490e-01,  1.2067e-01, -7.8415e-03,  ...,  7.4239e-02,\n",
       "                       -1.0922e-01,  6.9363e-02],\n",
       "                      [ 1.2051e-01, -2.1445e-01,  2.9268e-02,  ..., -3.0576e-01,\n",
       "                        5.4372e-01,  1.2155e-01],\n",
       "                      [-1.9170e-01,  3.6744e-01,  2.5386e-01,  ..., -2.0640e-01,\n",
       "                       -1.9154e-01,  9.6157e-02]])),\n",
       "             ('h2o.bias',\n",
       "              tensor([ 0.5653,  0.3410,  0.0964, -0.2147,  0.0134,  0.2296, -0.2027,  0.1053,\n",
       "                       0.0304,  0.4831,  0.1156, -0.9637, -0.3619, -0.4816, -0.0818,  0.0146,\n",
       "                       0.4763, -0.1987]))])"
      ]
     },
     "execution_count": 25,
     "metadata": {},
     "output_type": "execute_result"
    }
   ],
   "source": [
    "my_loaded_rnn_model_with_state_dict"
   ]
  },
  {
   "cell_type": "code",
   "execution_count": 29,
   "metadata": {},
   "outputs": [
    {
     "data": {
      "text/plain": [
       "[2.8860110058784483,\n",
       " 2.858386888027191,\n",
       " 2.817752496957779,\n",
       " 2.7780828679800034,\n",
       " 2.7045314073562623]"
      ]
     },
     "execution_count": 29,
     "metadata": {},
     "output_type": "execute_result"
    }
   ],
   "source": [
    "all_losses[:5]"
   ]
  }
 ],
 "metadata": {
  "kernelspec": {
   "display_name": "env",
   "language": "python",
   "name": "python3"
  },
  "language_info": {
   "codemirror_mode": {
    "name": "ipython",
    "version": 3
   },
   "file_extension": ".py",
   "mimetype": "text/x-python",
   "name": "python",
   "nbconvert_exporter": "python",
   "pygments_lexer": "ipython3",
   "version": "3.9.6"
  }
 },
 "nbformat": 4,
 "nbformat_minor": 2
}
