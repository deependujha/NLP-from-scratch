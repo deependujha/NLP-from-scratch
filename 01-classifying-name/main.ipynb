{
 "cells": [
  {
   "cell_type": "code",
   "execution_count": 1,
   "metadata": {},
   "outputs": [
    {
     "name": "stdout",
     "output_type": "stream",
     "text": [
      "['../data/names/Czech.txt', '../data/names/German.txt', '../data/names/Arabic.txt', '../data/names/Japanese.txt', '../data/names/Chinese.txt', '../data/names/Vietnamese.txt', '../data/names/Russian.txt', '../data/names/French.txt', '../data/names/Irish.txt', '../data/names/English.txt', '../data/names/Spanish.txt', '../data/names/Greek.txt', '../data/names/Italian.txt', '../data/names/Portuguese.txt', '../data/names/Scottish.txt', '../data/names/Dutch.txt', '../data/names/Korean.txt', '../data/names/Polish.txt']\n"
     ]
    }
   ],
   "source": [
    "from io import open\n",
    "import glob\n",
    "import os\n",
    "\n",
    "\n",
    "def findFiles(path):\n",
    "    return glob.glob(path)\n",
    "\n",
    "\n",
    "print(findFiles(\"../data/names/*.txt\"))"
   ]
  },
  {
   "cell_type": "code",
   "execution_count": 2,
   "metadata": {},
   "outputs": [
    {
     "name": "stdout",
     "output_type": "stream",
     "text": [
      "all_letters=\"abcdefghijklmnopqrstuvwxyzABCDEFGHIJKLMNOPQRSTUVWXYZ .,;'\";\n",
      "n_letters=57\n"
     ]
    }
   ],
   "source": [
    "import unicodedata\n",
    "import string\n",
    "\n",
    "all_letters = string.ascii_letters + \" .,;'\"\n",
    "n_letters = len(all_letters)\n",
    "\n",
    "print(f\"{all_letters=};\\n{n_letters=}\")"
   ]
  },
  {
   "cell_type": "code",
   "execution_count": 3,
   "metadata": {},
   "outputs": [
    {
     "name": "stdout",
     "output_type": "stream",
     "text": [
      "Slusarski\n"
     ]
    }
   ],
   "source": [
    "# Turn a Unicode string to plain ASCII, thanks to https://stackoverflow.com/a/518232/2809427\n",
    "def unicodeToAscii(s):\n",
    "    return \"\".join(\n",
    "        c\n",
    "        for c in unicodedata.normalize(\"NFD\", s)\n",
    "        if unicodedata.category(c) != \"Mn\" and c in all_letters\n",
    "    )\n",
    "\n",
    "\n",
    "print(unicodeToAscii(\"Ślusàrski\"))"
   ]
  },
  {
   "cell_type": "code",
   "execution_count": 4,
   "metadata": {},
   "outputs": [
    {
     "name": "stdout",
     "output_type": "stream",
     "text": [
      "category='Czech'\n",
      "category='German'\n",
      "category='Arabic'\n",
      "category='Japanese'\n",
      "category='Chinese'\n",
      "category='Vietnamese'\n",
      "category='Russian'\n",
      "category='French'\n",
      "category='Irish'\n",
      "category='English'\n",
      "category='Spanish'\n",
      "category='Greek'\n",
      "category='Italian'\n",
      "category='Portuguese'\n",
      "category='Scottish'\n",
      "category='Dutch'\n",
      "category='Korean'\n",
      "category='Polish'\n",
      "n_categories=18\n"
     ]
    }
   ],
   "source": [
    "# Build the category_lines dictionary, a list of names per language\n",
    "category_lines = {}\n",
    "all_categories = []\n",
    "\n",
    "\n",
    "# Read a file and split into lines\n",
    "def readLines(filename):\n",
    "    lines = open(filename, encoding=\"utf-8\").read().strip().split(\"\\n\")\n",
    "    return [unicodeToAscii(line) for line in lines]\n",
    "\n",
    "\n",
    "for filename in findFiles(\"../data/names/*.txt\"):\n",
    "    category = os.path.splitext(os.path.basename(filename))[0]\n",
    "    print(f\"{category=}\")\n",
    "    all_categories.append(category)\n",
    "    lines = readLines(filename)\n",
    "    category_lines[category] = lines\n",
    "\n",
    "n_categories = len(all_categories)\n",
    "print(f\"{n_categories=}\")"
   ]
  },
  {
   "cell_type": "code",
   "execution_count": 5,
   "metadata": {},
   "outputs": [
    {
     "name": "stdout",
     "output_type": "stream",
     "text": [
      "['Abandonato', 'Abatangelo', 'Abatantuono', 'Abate', 'Abategiovanni']\n"
     ]
    }
   ],
   "source": [
    "print(category_lines[\"Italian\"][:5])"
   ]
  },
  {
   "cell_type": "code",
   "execution_count": 6,
   "metadata": {},
   "outputs": [
    {
     "name": "stdout",
     "output_type": "stream",
     "text": [
      "tensor([[0., 0., 0., 0., 0., 0., 0., 0., 0., 0., 0., 0., 0., 0., 0., 0., 0., 0.,\n",
      "         0., 0., 0., 0., 0., 0., 0., 0., 0., 0., 0., 0., 0., 0., 0., 0., 0., 1.,\n",
      "         0., 0., 0., 0., 0., 0., 0., 0., 0., 0., 0., 0., 0., 0., 0., 0., 0., 0.,\n",
      "         0., 0., 0.]])\n",
      "torch.Size([5, 1, 57])\n"
     ]
    }
   ],
   "source": [
    "import torch\n",
    "\n",
    "\n",
    "# Find letter index from all_letters, e.g. \"a\" = 0\n",
    "def letterToIndex(letter):\n",
    "    return all_letters.find(letter)\n",
    "\n",
    "\n",
    "# Just for demonstration, turn a letter into a <1 x n_letters> Tensor\n",
    "def letterToTensor(letter):\n",
    "    tensor = torch.zeros(1, n_letters)\n",
    "    tensor[0][letterToIndex(letter)] = 1\n",
    "    return tensor\n",
    "\n",
    "\n",
    "# Turn a line into a <line_length x 1 x n_letters>,\n",
    "# or an array of one-hot letter vectors\n",
    "def lineToTensor(line):\n",
    "    tensor = torch.zeros(len(line), 1, n_letters)\n",
    "    for li, letter in enumerate(line):\n",
    "        tensor[li][0][letterToIndex(letter)] = 1\n",
    "    return tensor\n",
    "\n",
    "\n",
    "print(letterToTensor(\"J\"))\n",
    "\n",
    "print(lineToTensor(\"Jones\").size())"
   ]
  },
  {
   "cell_type": "code",
   "execution_count": 7,
   "metadata": {},
   "outputs": [
    {
     "name": "stdout",
     "output_type": "stream",
     "text": [
      "n_letters=57; n_hidden=128; n_categories=18\n"
     ]
    }
   ],
   "source": [
    "import torch.nn as nn\n",
    "\n",
    "\n",
    "class RNN(nn.Module):\n",
    "    def __init__(self, input_size, hidden_size, output_size):\n",
    "        super(RNN, self).__init__()\n",
    "\n",
    "        self.hidden_size = hidden_size\n",
    "\n",
    "        self.i2h = nn.Linear(input_size + hidden_size, hidden_size)\n",
    "        self.h2o = nn.Linear(hidden_size, output_size)\n",
    "        self.softmax = nn.LogSoftmax(dim=1)\n",
    "\n",
    "    def forward(self, input, hidden):\n",
    "        combined = torch.cat((input, hidden), 1)\n",
    "        hidden = self.i2h(combined)\n",
    "        output = self.h2o(hidden)\n",
    "        output = self.softmax(output)\n",
    "        return output, hidden\n",
    "\n",
    "    def initHidden(self):\n",
    "        return torch.zeros(1, self.hidden_size)\n",
    "\n",
    "\n",
    "n_hidden = 128\n",
    "rnn = RNN(n_letters, n_hidden, n_categories)\n",
    "print(f\"{n_letters=}; {n_hidden=}; {n_categories=}\")"
   ]
  },
  {
   "cell_type": "code",
   "execution_count": 8,
   "metadata": {},
   "outputs": [
    {
     "name": "stdout",
     "output_type": "stream",
     "text": [
      "input.size()=torch.Size([1, 57]); input=tensor([[0., 0., 0., 0., 0., 0., 0., 0., 0., 0., 0., 0., 0., 0., 0., 0., 0., 0.,\n",
      "         0., 0., 0., 0., 0., 0., 0., 0., 1., 0., 0., 0., 0., 0., 0., 0., 0., 0.,\n",
      "         0., 0., 0., 0., 0., 0., 0., 0., 0., 0., 0., 0., 0., 0., 0., 0., 0., 0.,\n",
      "         0., 0., 0.]])\n",
      "output.size()=torch.Size([1, 18]); output=tensor([[-2.9768, -2.9442, -2.9659, -2.8805, -2.9326, -2.8674, -2.9894, -2.9524,\n",
      "         -2.7502, -2.9052, -2.9019, -2.8349, -2.8055, -2.8723, -2.8925, -2.8297,\n",
      "         -2.9059, -2.8537]], grad_fn=<LogSoftmaxBackward0>)\n",
      "next_hidden.size()=torch.Size([1, 128]); next_hidden=tensor([[ 0.0224,  0.0515,  0.0232, -0.1118,  0.0378,  0.0947, -0.0880, -0.1047,\n",
      "         -0.1001, -0.0160,  0.0106, -0.0272,  0.1043, -0.0768, -0.1056, -0.0884,\n",
      "         -0.0241,  0.0009,  0.0782,  0.1312,  0.0030, -0.0765,  0.0501, -0.0427,\n",
      "         -0.0019,  0.0155, -0.0038, -0.0178,  0.0428, -0.0239,  0.1221,  0.0266,\n",
      "         -0.0176, -0.0010, -0.0081, -0.0104,  0.0195,  0.0800,  0.1057,  0.0325,\n",
      "          0.0391, -0.0036, -0.0441,  0.0347, -0.0215,  0.0097,  0.1256,  0.0119,\n",
      "          0.0035, -0.0032,  0.0178, -0.0310, -0.0053,  0.0144,  0.0572, -0.0291,\n",
      "          0.0333,  0.0381, -0.0451, -0.0542, -0.0071, -0.0155,  0.0168,  0.0538,\n",
      "          0.0055, -0.0617, -0.0429, -0.0105,  0.0189,  0.0065, -0.0280, -0.0839,\n",
      "          0.0538,  0.1012,  0.1047, -0.1249, -0.0628, -0.0614, -0.0047, -0.0229,\n",
      "          0.0022, -0.0170, -0.0796,  0.0253, -0.0275, -0.1061,  0.0173,  0.0036,\n",
      "          0.0414,  0.0231,  0.0105,  0.1202, -0.1200, -0.0514,  0.0432,  0.0099,\n",
      "          0.0632,  0.0320, -0.0450,  0.0181, -0.0098, -0.0728, -0.0195, -0.0823,\n",
      "          0.0440,  0.0401,  0.0350,  0.0618,  0.0136,  0.0669, -0.0285,  0.0411,\n",
      "          0.1141,  0.1274, -0.0038, -0.0044, -0.0096,  0.1053,  0.0183,  0.0270,\n",
      "         -0.0362,  0.0132, -0.0041, -0.0038,  0.1042,  0.0602, -0.1047, -0.0446]],\n",
      "       grad_fn=<AddmmBackward0>)\n"
     ]
    }
   ],
   "source": [
    "input = letterToTensor(\"A\")\n",
    "print(f\"{input.size()=}; {input=}\")\n",
    "\n",
    "hidden = torch.zeros(1, n_hidden)\n",
    "\n",
    "output, next_hidden = rnn(input, hidden)\n",
    "print(f\"{output.size()=}; {output=}\")\n",
    "print(f\"{next_hidden.size()=}; {next_hidden=}\")"
   ]
  },
  {
   "cell_type": "code",
   "execution_count": 9,
   "metadata": {},
   "outputs": [
    {
     "name": "stdout",
     "output_type": "stream",
     "text": [
      "tensor([[-2.9768, -2.9442, -2.9659, -2.8805, -2.9326, -2.8674, -2.9894, -2.9524,\n",
      "         -2.7502, -2.9052, -2.9019, -2.8349, -2.8055, -2.8723, -2.8925, -2.8297,\n",
      "         -2.9059, -2.8537]], grad_fn=<LogSoftmaxBackward0>)\n"
     ]
    }
   ],
   "source": [
    "input = lineToTensor(\"Albert\")\n",
    "hidden = torch.zeros(1, n_hidden)\n",
    "\n",
    "output, next_hidden = rnn(input[0], hidden)\n",
    "print(output)"
   ]
  },
  {
   "cell_type": "code",
   "execution_count": 10,
   "metadata": {},
   "outputs": [
    {
     "name": "stdout",
     "output_type": "stream",
     "text": [
      "('Irish', 8)\n"
     ]
    }
   ],
   "source": [
    "def categoryFromOutput(output):\n",
    "    top_n, top_i = output.topk(1) # returns tuple(values, indices)\n",
    "    category_i = top_i[0].item()\n",
    "    return all_categories[category_i], category_i\n",
    "\n",
    "\n",
    "print(categoryFromOutput(output))"
   ]
  },
  {
   "cell_type": "code",
   "execution_count": 11,
   "metadata": {},
   "outputs": [
    {
     "name": "stdout",
     "output_type": "stream",
     "text": [
      "category = Arabic / line = Sabbagh\n",
      "category_tensor.size()=torch.Size([1]); category_tensor=tensor([2])\n",
      "line_tensor.size()=torch.Size([7, 1, 57])\n",
      "-----------------------------------------\n",
      "category = Spanish / line = Del olmo\n",
      "category_tensor.size()=torch.Size([1]); category_tensor=tensor([10])\n",
      "line_tensor.size()=torch.Size([8, 1, 57])\n",
      "-----------------------------------------\n",
      "category = Czech / line = Sarna\n",
      "category_tensor.size()=torch.Size([1]); category_tensor=tensor([0])\n",
      "line_tensor.size()=torch.Size([5, 1, 57])\n",
      "-----------------------------------------\n",
      "category = Polish / line = Chlebek\n",
      "category_tensor.size()=torch.Size([1]); category_tensor=tensor([17])\n",
      "line_tensor.size()=torch.Size([7, 1, 57])\n",
      "-----------------------------------------\n",
      "category = Dutch / line = Kann\n",
      "category_tensor.size()=torch.Size([1]); category_tensor=tensor([15])\n",
      "line_tensor.size()=torch.Size([4, 1, 57])\n",
      "-----------------------------------------\n",
      "category = Chinese / line = Zhui\n",
      "category_tensor.size()=torch.Size([1]); category_tensor=tensor([4])\n",
      "line_tensor.size()=torch.Size([4, 1, 57])\n",
      "-----------------------------------------\n",
      "category = Japanese / line = Murakami\n",
      "category_tensor.size()=torch.Size([1]); category_tensor=tensor([3])\n",
      "line_tensor.size()=torch.Size([8, 1, 57])\n",
      "-----------------------------------------\n",
      "category = Greek / line = Milionis\n",
      "category_tensor.size()=torch.Size([1]); category_tensor=tensor([11])\n",
      "line_tensor.size()=torch.Size([8, 1, 57])\n",
      "-----------------------------------------\n",
      "category = Spanish / line = Picasso\n",
      "category_tensor.size()=torch.Size([1]); category_tensor=tensor([10])\n",
      "line_tensor.size()=torch.Size([7, 1, 57])\n",
      "-----------------------------------------\n",
      "category = German / line = Salomon\n",
      "category_tensor.size()=torch.Size([1]); category_tensor=tensor([1])\n",
      "line_tensor.size()=torch.Size([7, 1, 57])\n",
      "-----------------------------------------\n"
     ]
    }
   ],
   "source": [
    "import random\n",
    "\n",
    "\n",
    "def randomChoice(l):\n",
    "    return l[random.randint(0, len(l) - 1)]\n",
    "\n",
    "\n",
    "def randomTrainingExample():\n",
    "    category = randomChoice(all_categories)\n",
    "    line = randomChoice(category_lines[category])\n",
    "    category_tensor = torch.tensor([all_categories.index(category)], dtype=torch.long)\n",
    "    line_tensor = lineToTensor(line)\n",
    "    return category, line, category_tensor, line_tensor\n",
    "\n",
    "\n",
    "for i in range(10):\n",
    "    category, line, category_tensor, line_tensor = randomTrainingExample()\n",
    "    print(\"category =\", category, \"/ line =\", line)\n",
    "    print(f\"{category_tensor.size()=}; {category_tensor=}\")\n",
    "    print(f\"{line_tensor.size()=}\")\n",
    "    print(\"-----------------------------------------\")"
   ]
  },
  {
   "cell_type": "code",
   "execution_count": 12,
   "metadata": {},
   "outputs": [],
   "source": [
    "criterion = nn.NLLLoss()"
   ]
  },
  {
   "cell_type": "code",
   "execution_count": 13,
   "metadata": {},
   "outputs": [],
   "source": [
    "learning_rate = (\n",
    "    0.005  # If you set this too high, it might explode. If too low, it might not learn\n",
    ")\n",
    "\n",
    "\n",
    "def train(category_tensor, line_tensor):\n",
    "    hidden = rnn.initHidden()\n",
    "\n",
    "    rnn.zero_grad()\n",
    "\n",
    "    for i in range(line_tensor.size()[0]):\n",
    "        output, hidden = rnn(line_tensor[i], hidden)\n",
    "\n",
    "    loss = criterion(output, category_tensor)\n",
    "    loss.backward()\n",
    "\n",
    "    # Add parameters' gradients to their values, multiplied by learning rate\n",
    "    for p in rnn.parameters():\n",
    "        p.data.add_(p.grad.data, alpha=-learning_rate)\n",
    "\n",
    "    return output, loss.item()"
   ]
  },
  {
   "cell_type": "code",
   "execution_count": 14,
   "metadata": {},
   "outputs": [
    {
     "name": "stdout",
     "output_type": "stream",
     "text": [
      "5000 5% (0m 1s) 2.8511 Kanak / Arabic ✗ (Czech)\n",
      "10000 10% (0m 3s) 2.3517 Provenza / Spanish ✗ (Italian)\n",
      "15000 15% (0m 5s) 1.5411 Sha / Korean ✗ (Chinese)\n",
      "20000 20% (0m 7s) 2.6782 Dubhshlaine / Russian ✗ (Irish)\n",
      "25000 25% (0m 9s) 1.2077 Cino / Italian ✓\n",
      "30000 30% (0m 11s) 2.3807 Ross / Greek ✗ (English)\n",
      "35000 35% (0m 13s) 0.8506 La / Vietnamese ✓\n",
      "40000 40% (0m 15s) 1.2700 Otten / Dutch ✓\n",
      "45000 45% (0m 16s) 0.2636 Cathasach / Irish ✓\n",
      "50000 50% (0m 18s) 0.3027 Takeshita / Japanese ✓\n",
      "55000 55% (0m 20s) 1.3833 Tsai  / Arabic ✗ (Korean)\n",
      "60000 60% (0m 22s) 1.1947 Wasem / Arabic ✓\n",
      "65000 65% (0m 24s) 4.9724 Olguin / Irish ✗ (Spanish)\n",
      "70000 70% (0m 26s) 0.0023 Vamvakidis / Greek ✓\n",
      "75000 75% (0m 28s) 0.3087 Kalogeria / Greek ✓\n",
      "80000 80% (0m 29s) 0.9051 Langer / German ✓\n",
      "85000 85% (0m 31s) 4.0142 Venne / Italian ✗ (Dutch)\n",
      "90000 90% (0m 33s) 0.6536 Sobol / Polish ✓\n",
      "95000 95% (0m 35s) 1.1851 D'cruz / Spanish ✗ (Portuguese)\n",
      "100000 100% (0m 37s) 0.5134 Victor / French ✓\n"
     ]
    }
   ],
   "source": [
    "import time\n",
    "import math\n",
    "\n",
    "n_iters = 100000\n",
    "print_every = 5000\n",
    "plot_every = 1000\n",
    "\n",
    "\n",
    "# Keep track of losses for plotting\n",
    "current_loss = 0\n",
    "all_losses = []\n",
    "\n",
    "\n",
    "def timeSince(since):\n",
    "    now = time.time()\n",
    "    s = now - since\n",
    "    m = math.floor(s / 60)\n",
    "    s -= m * 60\n",
    "    return \"%dm %ds\" % (m, s)\n",
    "\n",
    "\n",
    "start = time.time()\n",
    "\n",
    "for iter in range(1, n_iters + 1):\n",
    "    category, line, category_tensor, line_tensor = randomTrainingExample()\n",
    "    output, loss = train(category_tensor, line_tensor)\n",
    "    current_loss += loss\n",
    "\n",
    "    # Print ``iter`` number, loss, name and guess\n",
    "    if iter % print_every == 0:\n",
    "        guess, guess_i = categoryFromOutput(output)\n",
    "        correct = \"✓\" if guess == category else \"✗ (%s)\" % category\n",
    "        print(\n",
    "            \"%d %d%% (%s) %.4f %s / %s %s\"\n",
    "            % (iter, iter / n_iters * 100, timeSince(start), loss, line, guess, correct)\n",
    "        )\n",
    "\n",
    "    # Add current loss avg to list of losses\n",
    "    if iter % plot_every == 0:\n",
    "        all_losses.append(current_loss / plot_every)\n",
    "        current_loss = 0"
   ]
  },
  {
   "cell_type": "code",
   "execution_count": 15,
   "metadata": {},
   "outputs": [
    {
     "data": {
      "text/plain": [
       "[<matplotlib.lines.Line2D at 0x137fbc280>]"
      ]
     },
     "execution_count": 15,
     "metadata": {},
     "output_type": "execute_result"
    },
    {
     "data": {
      "image/png": "[encoded data removed]",
      "text/plain": [
       "<Figure size 640x480 with 1 Axes>"
      ]
     },
     "metadata": {},
     "output_type": "display_data"
    }
   ],
   "source": [
    "import matplotlib.pyplot as plt\n",
    "import matplotlib.ticker as ticker\n",
    "\n",
    "plt.figure()\n",
    "plt.plot(all_losses)"
   ]
  },
  {
   "cell_type": "code",
   "execution_count": 16,
   "metadata": {},
   "outputs": [
    {
     "name": "stderr",
     "output_type": "stream",
     "text": [
      "/var/folders/62/sqk699ld69v13ny7hdx8n4980000gn/T/ipykernel_45518/2887250372.py:35: UserWarning: set_ticklabels() should only be used with a fixed number of ticks, i.e. after set_ticks() or using a FixedLocator.\n",
      "  ax.set_xticklabels([\"\"] + all_categories, rotation=90)\n",
      "/var/folders/62/sqk699ld69v13ny7hdx8n4980000gn/T/ipykernel_45518/2887250372.py:36: UserWarning: set_ticklabels() should only be used with a fixed number of ticks, i.e. after set_ticks() or using a FixedLocator.\n",
      "  ax.set_yticklabels([\"\"] + all_categories)\n"
     ]
    },
    {
     "data": {
      "image/png": "[encoded data removed]",
      "text/plain": [
       "<Figure size 640x480 with 2 Axes>"
      ]
     },
     "metadata": {},
     "output_type": "display_data"
    }
   ],
   "source": [
    "# Keep track of correct guesses in a confusion matrix\n",
    "confusion = torch.zeros(n_categories, n_categories)\n",
    "n_confusion = 10000\n",
    "\n",
    "\n",
    "# Just return an output given a line\n",
    "def evaluate(line_tensor):\n",
    "    hidden = rnn.initHidden()\n",
    "\n",
    "    for i in range(line_tensor.size()[0]):\n",
    "        output, hidden = rnn(line_tensor[i], hidden)\n",
    "\n",
    "    return output\n",
    "\n",
    "\n",
    "# Go through a bunch of examples and record which are correctly guessed\n",
    "for i in range(n_confusion):\n",
    "    category, line, category_tensor, line_tensor = randomTrainingExample()\n",
    "    output = evaluate(line_tensor)\n",
    "    guess, guess_i = categoryFromOutput(output)\n",
    "    category_i = all_categories.index(category)\n",
    "    confusion[category_i][guess_i] += 1\n",
    "\n",
    "# Normalize by dividing every row by its sum\n",
    "for i in range(n_categories):\n",
    "    confusion[i] = confusion[i] / confusion[i].sum()\n",
    "\n",
    "# Set up plot\n",
    "fig = plt.figure()\n",
    "ax = fig.add_subplot(111)\n",
    "cax = ax.matshow(confusion.numpy())\n",
    "fig.colorbar(cax)\n",
    "\n",
    "# Set up axes\n",
    "ax.set_xticklabels([\"\"] + all_categories, rotation=90)\n",
    "ax.set_yticklabels([\"\"] + all_categories)\n",
    "\n",
    "# Force label at every tick\n",
    "ax.xaxis.set_major_locator(ticker.MultipleLocator(1))\n",
    "ax.yaxis.set_major_locator(ticker.MultipleLocator(1))\n",
    "\n",
    "# sphinx_gallery_thumbnail_number = 2\n",
    "plt.show()"
   ]
  },
  {
   "cell_type": "code",
   "execution_count": 17,
   "metadata": {},
   "outputs": [
    {
     "name": "stdout",
     "output_type": "stream",
     "text": [
      "\n",
      "> Dovesky\n",
      "(-1.08) Russian\n",
      "(-1.23) Czech\n",
      "(-1.43) English\n",
      "\n",
      "> Jackson\n",
      "(-0.07) Scottish\n",
      "(-3.17) English\n",
      "(-4.85) French\n",
      "\n",
      "> Satoshi\n",
      "(-0.76) Polish\n",
      "(-1.54) Italian\n",
      "(-2.25) Japanese\n"
     ]
    }
   ],
   "source": [
    "def predict(input_line, n_predictions=3):\n",
    "    print(\"\\n> %s\" % input_line)\n",
    "    with torch.no_grad():\n",
    "        output = evaluate(lineToTensor(input_line))\n",
    "\n",
    "        # Get top N categories\n",
    "        topv, topi = output.topk(n_predictions, 1, True)\n",
    "        predictions = []\n",
    "\n",
    "        for i in range(n_predictions):\n",
    "            value = topv[0][i].item()\n",
    "            category_index = topi[0][i].item()\n",
    "            print(\"(%.2f) %s\" % (value, all_categories[category_index]))\n",
    "            predictions.append([value, all_categories[category_index]])\n",
    "\n",
    "\n",
    "predict(\"Dovesky\")\n",
    "predict(\"Jackson\")\n",
    "predict(\"Satoshi\")"
   ]
  },
  {
   "cell_type": "code",
   "execution_count": 18,
   "metadata": {},
   "outputs": [
    {
     "name": "stdout",
     "output_type": "stream",
     "text": [
      "\n",
      "> Deependu\n",
      "(-0.31) French\n",
      "(-2.09) German\n",
      "(-3.34) Italian\n",
      "\n",
      "> Nepali\n",
      "(-0.23) Italian\n",
      "(-3.32) Polish\n",
      "(-3.62) English\n"
     ]
    }
   ],
   "source": [
    "predict(\"Deependu\")\n",
    "predict(\"Nepali\")"
   ]
  },
  {
   "cell_type": "markdown",
   "metadata": {},
   "source": [
    "## Save model"
   ]
  },
  {
   "cell_type": "code",
   "execution_count": 19,
   "metadata": {},
   "outputs": [],
   "source": [
    "import torch\n",
    "\n",
    "torch.save(rnn, \"rnn.pth\")\n",
    "torch.save(rnn.state_dict(), \"rnn_state_dict.pth\")"
   ]
  },
  {
   "cell_type": "markdown",
   "metadata": {},
   "source": [
    "---\n",
    "\n",
    "## load model"
   ]
  },
  {
   "cell_type": "code",
   "execution_count": 20,
   "metadata": {},
   "outputs": [
    {
     "data": {
      "text/plain": [
       "RNN(\n",
       "  (i2h): Linear(in_features=185, out_features=128, bias=True)\n",
       "  (h2o): Linear(in_features=128, out_features=18, bias=True)\n",
       "  (softmax): LogSoftmax(dim=1)\n",
       ")"
      ]
     },
     "execution_count": 20,
     "metadata": {},
     "output_type": "execute_result"
    }
   ],
   "source": [
    "import torch\n",
    "\n",
    "my_loaded_rnn_model = torch.load(\"rnn.pth\")\n",
    "\n",
    "my_loaded_rnn_model"
   ]
  },
  {
   "cell_type": "code",
   "execution_count": 21,
   "metadata": {},
   "outputs": [],
   "source": [
    "my_loaded_rnn_model_with_state_dict = torch.load(\"rnn_state_dict.pth\")"
   ]
  },
  {
   "cell_type": "code",
   "execution_count": 22,
   "metadata": {},
   "outputs": [
    {
     "data": {
      "text/plain": [
       "OrderedDict([('i2h.weight',\n",
       "              tensor([[-0.0293, -0.1356,  0.2930,  ..., -0.1210, -0.0148,  0.0188],\n",
       "                      [-0.2580, -0.0126,  0.0166,  ...,  0.0535,  0.0440,  0.0021],\n",
       "                      [-0.0796,  0.0500,  0.0506,  ..., -0.0912,  0.0271,  0.0462],\n",
       "                      ...,\n",
       "                      [ 0.1602,  0.2037,  0.1519,  ..., -0.0589,  0.0469,  0.0336],\n",
       "                      [-0.3357, -0.0432,  0.0469,  ...,  0.0241,  0.1287,  0.0090],\n",
       "                      [-0.0451,  0.1101, -0.0739,  ...,  0.1146,  0.0233, -0.0291]])),\n",
       "             ('i2h.bias',\n",
       "              tensor([ 0.0274,  0.0850,  0.0385, -0.1175, -0.0066, -0.0074,  0.0256,  0.0096,\n",
       "                      -0.0360,  0.0025, -0.0934,  0.0164, -0.0461, -0.0335, -0.0150, -0.1399,\n",
       "                      -0.0204, -0.0533,  0.1301,  0.0094,  0.0285, -0.1256,  0.0177,  0.0701,\n",
       "                       0.1003, -0.0665,  0.0221, -0.1124,  0.0948,  0.0717,  0.0391,  0.0361,\n",
       "                      -0.0374, -0.0749,  0.0356, -0.0468,  0.0031,  0.0431, -0.0312,  0.0171,\n",
       "                      -0.0322, -0.1027, -0.0130, -0.0473,  0.0060,  0.0216,  0.0327,  0.0479,\n",
       "                      -0.0498,  0.0245,  0.0279, -0.0311, -0.0330, -0.0544,  0.0005,  0.0604,\n",
       "                       0.0011, -0.0247,  0.0935, -0.0528,  0.0125, -0.1352,  0.0403,  0.0068,\n",
       "                      -0.0380,  0.0142, -0.0808,  0.0624,  0.0037,  0.0280, -0.0334, -0.0165,\n",
       "                       0.0130, -0.0313,  0.0049, -0.0015, -0.0321,  0.0223,  0.0356,  0.0155,\n",
       "                      -0.0434, -0.0221,  0.0119,  0.0319,  0.0026, -0.0608,  0.0162,  0.0156,\n",
       "                       0.0019,  0.0036,  0.0724, -0.1306, -0.0072,  0.0229,  0.0102, -0.0260,\n",
       "                       0.0477, -0.0367, -0.0308, -0.0470, -0.0638, -0.0598,  0.0271, -0.0386,\n",
       "                       0.0512, -0.0528,  0.0063, -0.1371, -0.1643, -0.1180, -0.0222, -0.0039,\n",
       "                       0.0493,  0.0334,  0.0026, -0.0268,  0.0448, -0.0060, -0.0611, -0.0314,\n",
       "                       0.0752, -0.0522, -0.0306, -0.0338,  0.0357,  0.0015,  0.0520, -0.0218])),\n",
       "             ('h2o.weight',\n",
       "              tensor([[ 0.0901, -0.0422,  0.2414,  ...,  0.2087, -0.0517, -0.2452],\n",
       "                      [ 0.0457, -0.2472,  0.0312,  ..., -0.0570,  0.1351, -0.0962],\n",
       "                      [-0.1606,  0.0306,  0.2636,  ..., -0.2649, -0.1009,  0.2630],\n",
       "                      ...,\n",
       "                      [-0.0508,  0.1055,  0.0971,  ...,  0.1855,  0.0487,  0.0613],\n",
       "                      [-0.1137,  0.4708,  0.0683,  ..., -0.1552, -0.3559, -0.0973],\n",
       "                      [-0.1692, -0.1823,  0.2272,  ..., -0.2404, -0.0105,  0.0770]])),\n",
       "             ('h2o.bias',\n",
       "              tensor([ 0.5118,  0.3642,  0.0678, -0.2328,  0.0243,  0.2495, -0.1915,  0.1843,\n",
       "                       0.0279,  0.4800, -0.0461, -0.9596, -0.3086, -0.5085, -0.1010,  0.1239,\n",
       "                       0.5150, -0.1935]))])"
      ]
     },
     "execution_count": 22,
     "metadata": {},
     "output_type": "execute_result"
    }
   ],
   "source": [
    "my_loaded_rnn_model_with_state_dict"
   ]
  },
  {
   "cell_type": "code",
   "execution_count": 23,
   "metadata": {},
   "outputs": [
    {
     "data": {
      "text/plain": [
       "[2.8859749393463137,\n",
       " 2.861133049726486,\n",
       " 2.8275869324207306,\n",
       " 2.777683599948883,\n",
       " 2.6489026036672296]"
      ]
     },
     "execution_count": 23,
     "metadata": {},
     "output_type": "execute_result"
    }
   ],
   "source": [
    "all_losses[:5]"
   ]
  }
 ],
 "metadata": {
  "kernelspec": {
   "display_name": "env",
   "language": "python",
   "name": "python3"
  },
  "language_info": {
   "codemirror_mode": {
    "name": "ipython",
    "version": 3
   },
   "file_extension": ".py",
   "mimetype": "text/x-python",
   "name": "python",
   "nbconvert_exporter": "python",
   "pygments_lexer": "ipython3",
   "version": "3.9.6"
  }
 },
 "nbformat": 4,
 "nbformat_minor": 2
}
