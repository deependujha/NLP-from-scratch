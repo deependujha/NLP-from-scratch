{
 "cells": [
  {
   "cell_type": "code",
   "execution_count": 1,
   "metadata": {},
   "outputs": [
    {
     "name": "stdout",
     "output_type": "stream",
     "text": [
      "['data/names/Czech.txt', 'data/names/German.txt', 'data/names/Arabic.txt', 'data/names/Japanese.txt', 'data/names/Chinese.txt', 'data/names/Vietnamese.txt', 'data/names/Russian.txt', 'data/names/French.txt', 'data/names/Irish.txt', 'data/names/English.txt', 'data/names/Spanish.txt', 'data/names/Greek.txt', 'data/names/Italian.txt', 'data/names/Portuguese.txt', 'data/names/Scottish.txt', 'data/names/Dutch.txt', 'data/names/Korean.txt', 'data/names/Polish.txt']\n"
     ]
    }
   ],
   "source": [
    "from io import open\n",
    "import glob\n",
    "import os\n",
    "\n",
    "\n",
    "def findFiles(path):\n",
    "    return glob.glob(path)\n",
    "\n",
    "\n",
    "print(findFiles(\"data/names/*.txt\"))"
   ]
  },
  {
   "cell_type": "code",
   "execution_count": 2,
   "metadata": {},
   "outputs": [
    {
     "name": "stdout",
     "output_type": "stream",
     "text": [
      "all_letters=\"abcdefghijklmnopqrstuvwxyzABCDEFGHIJKLMNOPQRSTUVWXYZ .,;'\";\n",
      "n_letters=57\n"
     ]
    }
   ],
   "source": [
    "import unicodedata\n",
    "import string\n",
    "\n",
    "all_letters = string.ascii_letters + \" .,;'\"\n",
    "n_letters = len(all_letters)\n",
    "\n",
    "print(f\"{all_letters=};\\n{n_letters=}\")"
   ]
  },
  {
   "cell_type": "code",
   "execution_count": 3,
   "metadata": {},
   "outputs": [
    {
     "name": "stdout",
     "output_type": "stream",
     "text": [
      "Slusarski\n"
     ]
    }
   ],
   "source": [
    "# Turn a Unicode string to plain ASCII, thanks to https://stackoverflow.com/a/518232/2809427\n",
    "def unicodeToAscii(s):\n",
    "    return \"\".join(\n",
    "        c\n",
    "        for c in unicodedata.normalize(\"NFD\", s)\n",
    "        if unicodedata.category(c) != \"Mn\" and c in all_letters\n",
    "    )\n",
    "\n",
    "\n",
    "print(unicodeToAscii(\"Ślusàrski\"))"
   ]
  },
  {
   "cell_type": "code",
   "execution_count": 4,
   "metadata": {},
   "outputs": [
    {
     "name": "stdout",
     "output_type": "stream",
     "text": [
      "category='Czech'\n",
      "category='German'\n",
      "category='Arabic'\n",
      "category='Japanese'\n",
      "category='Chinese'\n",
      "category='Vietnamese'\n",
      "category='Russian'\n",
      "category='French'\n",
      "category='Irish'\n",
      "category='English'\n",
      "category='Spanish'\n",
      "category='Greek'\n",
      "category='Italian'\n",
      "category='Portuguese'\n",
      "category='Scottish'\n",
      "category='Dutch'\n",
      "category='Korean'\n",
      "category='Polish'\n",
      "n_categories=18\n"
     ]
    }
   ],
   "source": [
    "# Build the category_lines dictionary, a list of names per language\n",
    "category_lines = {}\n",
    "all_categories = []\n",
    "\n",
    "\n",
    "# Read a file and split into lines\n",
    "def readLines(filename):\n",
    "    lines = open(filename, encoding=\"utf-8\").read().strip().split(\"\\n\")\n",
    "    return [unicodeToAscii(line) for line in lines]\n",
    "\n",
    "\n",
    "for filename in findFiles(\"data/names/*.txt\"):\n",
    "    category = os.path.splitext(os.path.basename(filename))[0]\n",
    "    print(f\"{category=}\")\n",
    "    all_categories.append(category)\n",
    "    lines = readLines(filename)\n",
    "    category_lines[category] = lines\n",
    "\n",
    "n_categories = len(all_categories)\n",
    "print(f\"{n_categories=}\")"
   ]
  },
  {
   "cell_type": "code",
   "execution_count": 5,
   "metadata": {},
   "outputs": [
    {
     "name": "stdout",
     "output_type": "stream",
     "text": [
      "['Abandonato', 'Abatangelo', 'Abatantuono', 'Abate', 'Abategiovanni']\n"
     ]
    }
   ],
   "source": [
    "print(category_lines[\"Italian\"][:5])"
   ]
  },
  {
   "cell_type": "code",
   "execution_count": 6,
   "metadata": {},
   "outputs": [
    {
     "name": "stdout",
     "output_type": "stream",
     "text": [
      "tensor([[0., 0., 0., 0., 0., 0., 0., 0., 0., 0., 0., 0., 0., 0., 0., 0., 0., 0.,\n",
      "         0., 0., 0., 0., 0., 0., 0., 0., 0., 0., 0., 0., 0., 0., 0., 0., 0., 1.,\n",
      "         0., 0., 0., 0., 0., 0., 0., 0., 0., 0., 0., 0., 0., 0., 0., 0., 0., 0.,\n",
      "         0., 0., 0.]])\n",
      "torch.Size([5, 1, 57])\n"
     ]
    }
   ],
   "source": [
    "import torch\n",
    "\n",
    "\n",
    "# Find letter index from all_letters, e.g. \"a\" = 0\n",
    "def letterToIndex(letter):\n",
    "    return all_letters.find(letter)\n",
    "\n",
    "\n",
    "# Just for demonstration, turn a letter into a <1 x n_letters> Tensor\n",
    "def letterToTensor(letter):\n",
    "    tensor = torch.zeros(1, n_letters)\n",
    "    tensor[0][letterToIndex(letter)] = 1\n",
    "    return tensor\n",
    "\n",
    "\n",
    "# Turn a line into a <line_length x 1 x n_letters>,\n",
    "# or an array of one-hot letter vectors\n",
    "def lineToTensor(line):\n",
    "    tensor = torch.zeros(len(line), 1, n_letters)\n",
    "    for li, letter in enumerate(line):\n",
    "        tensor[li][0][letterToIndex(letter)] = 1\n",
    "    return tensor\n",
    "\n",
    "\n",
    "print(letterToTensor(\"J\"))\n",
    "\n",
    "print(lineToTensor(\"Jones\").size())"
   ]
  },
  {
   "cell_type": "code",
   "execution_count": 7,
   "metadata": {},
   "outputs": [
    {
     "name": "stdout",
     "output_type": "stream",
     "text": [
      "n_letters=57; n_hidden=128; n_categories=18\n"
     ]
    }
   ],
   "source": [
    "import torch.nn as nn\n",
    "\n",
    "\n",
    "class RNN(nn.Module):\n",
    "    def __init__(self, input_size, hidden_size, output_size):\n",
    "        super(RNN, self).__init__()\n",
    "\n",
    "        self.hidden_size = hidden_size\n",
    "\n",
    "        self.i2h = nn.Linear(input_size + hidden_size, hidden_size)\n",
    "        self.h2o = nn.Linear(hidden_size, output_size)\n",
    "        self.softmax = nn.LogSoftmax(dim=1)\n",
    "\n",
    "    def forward(self, input, hidden):\n",
    "        combined = torch.cat((input, hidden), 1)\n",
    "        hidden = self.i2h(combined)\n",
    "        output = self.h2o(hidden)\n",
    "        output = self.softmax(output)\n",
    "        return output, hidden\n",
    "\n",
    "    def initHidden(self):\n",
    "        return torch.zeros(1, self.hidden_size)\n",
    "\n",
    "\n",
    "n_hidden = 128\n",
    "rnn = RNN(n_letters, n_hidden, n_categories)\n",
    "print(f\"{n_letters=}; {n_hidden=}; {n_categories=}\")"
   ]
  },
  {
   "cell_type": "code",
   "execution_count": 8,
   "metadata": {},
   "outputs": [
    {
     "name": "stdout",
     "output_type": "stream",
     "text": [
      "input.size()=torch.Size([1, 57]); input=tensor([[0., 0., 0., 0., 0., 0., 0., 0., 0., 0., 0., 0., 0., 0., 0., 0., 0., 0.,\n",
      "         0., 0., 0., 0., 0., 0., 0., 0., 1., 0., 0., 0., 0., 0., 0., 0., 0., 0.,\n",
      "         0., 0., 0., 0., 0., 0., 0., 0., 0., 0., 0., 0., 0., 0., 0., 0., 0., 0.,\n",
      "         0., 0., 0.]])\n",
      "output.size()=torch.Size([1, 18]); output=tensor([[-2.8324, -2.8860, -2.8474, -2.9499, -2.9435, -2.9335, -2.8908, -2.9264,\n",
      "         -2.9457, -2.9145, -2.8961, -2.8749, -2.8081, -2.9030, -2.8830, -2.8145,\n",
      "         -2.9300, -2.8638]], grad_fn=<LogSoftmaxBackward0>)\n",
      "next_hidden.size()=torch.Size([1, 128]); next_hidden=tensor([[ 0.0636,  0.0698,  0.0516, -0.0640, -0.0514, -0.0602,  0.0074,  0.0635,\n",
      "          0.1056,  0.0640,  0.0468,  0.0279, -0.0685, -0.0040, -0.0269,  0.0324,\n",
      "         -0.0676,  0.0116, -0.0855, -0.0858,  0.0755, -0.0112, -0.0118, -0.0174,\n",
      "         -0.0610, -0.0208,  0.1408,  0.0308, -0.0478, -0.0262,  0.0222, -0.0954,\n",
      "          0.0987,  0.0412, -0.0242, -0.0218, -0.0213,  0.0062,  0.0792, -0.0402,\n",
      "          0.0739, -0.0196,  0.0026, -0.0408,  0.0676, -0.0627, -0.0392,  0.0358,\n",
      "          0.0067, -0.0511,  0.0254,  0.1142, -0.1182, -0.1002, -0.0569,  0.0836,\n",
      "          0.0276,  0.0811,  0.0161, -0.0490, -0.0040, -0.0391, -0.0771,  0.0463,\n",
      "          0.0819, -0.0238, -0.0030, -0.0121, -0.0615,  0.0118, -0.0182,  0.0666,\n",
      "          0.0112, -0.0240, -0.0603,  0.0097, -0.0282,  0.0403, -0.0651, -0.0814,\n",
      "         -0.0127,  0.0718, -0.0701, -0.0660,  0.0388, -0.0068,  0.0257, -0.0285,\n",
      "         -0.0047,  0.0805, -0.0645, -0.0834,  0.0819,  0.0226,  0.0341, -0.0361,\n",
      "         -0.0350, -0.0538,  0.0265, -0.1208, -0.0246,  0.0533, -0.0423, -0.0559,\n",
      "          0.0089, -0.0326, -0.0733,  0.0396,  0.1172,  0.0046, -0.0956,  0.1222,\n",
      "          0.0004, -0.0906, -0.0022, -0.0532,  0.0468,  0.0786,  0.0027,  0.0378,\n",
      "         -0.0154, -0.0892, -0.0356,  0.0492,  0.0618,  0.0708,  0.0134, -0.0750]],\n",
      "       grad_fn=<AddmmBackward0>)\n"
     ]
    }
   ],
   "source": [
    "input = letterToTensor(\"A\")\n",
    "print(f\"{input.size()=}; {input=}\")\n",
    "\n",
    "hidden = torch.zeros(1, n_hidden)\n",
    "\n",
    "output, next_hidden = rnn(input, hidden)\n",
    "print(f\"{output.size()=}; {output=}\")\n",
    "print(f\"{next_hidden.size()=}; {next_hidden=}\")"
   ]
  },
  {
   "cell_type": "code",
   "execution_count": 9,
   "metadata": {},
   "outputs": [
    {
     "name": "stdout",
     "output_type": "stream",
     "text": [
      "tensor([[-2.8324, -2.8860, -2.8474, -2.9499, -2.9435, -2.9335, -2.8908, -2.9264,\n",
      "         -2.9457, -2.9145, -2.8961, -2.8749, -2.8081, -2.9030, -2.8830, -2.8145,\n",
      "         -2.9300, -2.8638]], grad_fn=<LogSoftmaxBackward0>)\n"
     ]
    }
   ],
   "source": [
    "input = lineToTensor(\"Albert\")\n",
    "hidden = torch.zeros(1, n_hidden)\n",
    "\n",
    "output, next_hidden = rnn(input[0], hidden)\n",
    "print(output)"
   ]
  },
  {
   "cell_type": "code",
   "execution_count": 10,
   "metadata": {},
   "outputs": [
    {
     "name": "stdout",
     "output_type": "stream",
     "text": [
      "('Italian', 12)\n"
     ]
    }
   ],
   "source": [
    "def categoryFromOutput(output):\n",
    "    top_n, top_i = output.topk(1) # returns tuple(values, indices)\n",
    "    category_i = top_i[0].item()\n",
    "    return all_categories[category_i], category_i\n",
    "\n",
    "\n",
    "print(categoryFromOutput(output))"
   ]
  },
  {
   "cell_type": "code",
   "execution_count": 11,
   "metadata": {},
   "outputs": [
    {
     "name": "stdout",
     "output_type": "stream",
     "text": [
      "category = Korean / line = Choe\n",
      "category_tensor.size()=torch.Size([1]); category_tensor=tensor([16])\n",
      "line_tensor.size()=torch.Size([4, 1, 57])\n",
      "-----------------------------------------\n",
      "category = Czech / line = Kasa\n",
      "category_tensor.size()=torch.Size([1]); category_tensor=tensor([0])\n",
      "line_tensor.size()=torch.Size([4, 1, 57])\n",
      "-----------------------------------------\n",
      "category = Polish / line = Niemczyk\n",
      "category_tensor.size()=torch.Size([1]); category_tensor=tensor([17])\n",
      "line_tensor.size()=torch.Size([8, 1, 57])\n",
      "-----------------------------------------\n",
      "category = Italian / line = Caito\n",
      "category_tensor.size()=torch.Size([1]); category_tensor=tensor([12])\n",
      "line_tensor.size()=torch.Size([5, 1, 57])\n",
      "-----------------------------------------\n",
      "category = Russian / line = Adamyants\n",
      "category_tensor.size()=torch.Size([1]); category_tensor=tensor([6])\n",
      "line_tensor.size()=torch.Size([9, 1, 57])\n",
      "-----------------------------------------\n",
      "category = Scottish / line = Mclaughlin\n",
      "category_tensor.size()=torch.Size([1]); category_tensor=tensor([14])\n",
      "line_tensor.size()=torch.Size([10, 1, 57])\n",
      "-----------------------------------------\n",
      "category = Russian / line = Lichkun\n",
      "category_tensor.size()=torch.Size([1]); category_tensor=tensor([6])\n",
      "line_tensor.size()=torch.Size([7, 1, 57])\n",
      "-----------------------------------------\n",
      "category = Italian / line = Parri\n",
      "category_tensor.size()=torch.Size([1]); category_tensor=tensor([12])\n",
      "line_tensor.size()=torch.Size([5, 1, 57])\n",
      "-----------------------------------------\n",
      "category = Italian / line = Favero\n",
      "category_tensor.size()=torch.Size([1]); category_tensor=tensor([12])\n",
      "line_tensor.size()=torch.Size([6, 1, 57])\n",
      "-----------------------------------------\n",
      "category = Portuguese / line = Soares\n",
      "category_tensor.size()=torch.Size([1]); category_tensor=tensor([13])\n",
      "line_tensor.size()=torch.Size([6, 1, 57])\n",
      "-----------------------------------------\n"
     ]
    }
   ],
   "source": [
    "import random\n",
    "\n",
    "\n",
    "def randomChoice(l):\n",
    "    return l[random.randint(0, len(l) - 1)]\n",
    "\n",
    "\n",
    "def randomTrainingExample():\n",
    "    category = randomChoice(all_categories)\n",
    "    line = randomChoice(category_lines[category])\n",
    "    category_tensor = torch.tensor([all_categories.index(category)], dtype=torch.long)\n",
    "    line_tensor = lineToTensor(line)\n",
    "    return category, line, category_tensor, line_tensor\n",
    "\n",
    "\n",
    "for i in range(10):\n",
    "    category, line, category_tensor, line_tensor = randomTrainingExample()\n",
    "    print(\"category =\", category, \"/ line =\", line)\n",
    "    print(f\"{category_tensor.size()=}; {category_tensor=}\")\n",
    "    print(f\"{line_tensor.size()=}\")\n",
    "    print(\"-----------------------------------------\")"
   ]
  },
  {
   "cell_type": "code",
   "execution_count": 12,
   "metadata": {},
   "outputs": [],
   "source": [
    "criterion = nn.NLLLoss()"
   ]
  },
  {
   "cell_type": "code",
   "execution_count": 13,
   "metadata": {},
   "outputs": [],
   "source": [
    "learning_rate = (\n",
    "    0.005  # If you set this too high, it might explode. If too low, it might not learn\n",
    ")\n",
    "\n",
    "\n",
    "def train(category_tensor, line_tensor):\n",
    "    hidden = rnn.initHidden()\n",
    "\n",
    "    rnn.zero_grad()\n",
    "\n",
    "    for i in range(line_tensor.size()[0]):\n",
    "        output, hidden = rnn(line_tensor[i], hidden)\n",
    "\n",
    "    loss = criterion(output, category_tensor)\n",
    "    loss.backward()\n",
    "\n",
    "    # Add parameters' gradients to their values, multiplied by learning rate\n",
    "    for p in rnn.parameters():\n",
    "        p.data.add_(p.grad.data, alpha=-learning_rate)\n",
    "\n",
    "    return output, loss.item()"
   ]
  },
  {
   "cell_type": "code",
   "execution_count": 14,
   "metadata": {},
   "outputs": [
    {
     "name": "stdout",
     "output_type": "stream",
     "text": [
      "5000 5% (0m 2s) 2.1325 Salucci / Italian ✓\n",
      "10000 10% (0m 4s) 2.5328 Nifterik / Russian ✗ (Dutch)\n",
      "15000 15% (0m 7s) 1.1788 Hishida / Japanese ✓\n",
      "20000 20% (0m 9s) 2.3092 Herrmann / Irish ✗ (German)\n",
      "25000 25% (0m 11s) 0.2836 Bukowski / Polish ✓\n",
      "30000 30% (0m 14s) 2.1684 Vaca / Spanish ✗ (Czech)\n",
      "35000 35% (0m 16s) 2.0170 Fields / Greek ✗ (English)\n",
      "40000 40% (0m 18s) 2.3522 Bran / Chinese ✗ (Irish)\n",
      "45000 45% (0m 21s) 0.0490 Sklavenitis / Greek ✓\n",
      "50000 50% (0m 23s) 2.0851 Heidrich / English ✗ (German)\n",
      "55000 55% (0m 26s) 2.3886 Rettig / Czech ✗ (German)\n",
      "60000 60% (0m 28s) 2.1575 Rhee / Irish ✗ (Korean)\n",
      "65000 65% (0m 30s) 0.7135 Connolly / Irish ✓\n",
      "70000 70% (0m 33s) 1.2837 Heel / German ✗ (Dutch)\n",
      "75000 75% (0m 35s) 0.3171 Robertson / Scottish ✓\n",
      "80000 80% (0m 38s) 0.2480 Man / Chinese ✓\n",
      "85000 85% (0m 40s) 0.1447 Romijnsen / Dutch ✓\n",
      "90000 90% (0m 42s) 1.1608 Dardyk / Czech ✗ (Russian)\n",
      "95000 95% (0m 45s) 0.0241 Hasbulatov / Russian ✓\n",
      "100000 100% (0m 47s) 2.3827 Lee / Chinese ✗ (Korean)\n"
     ]
    }
   ],
   "source": [
    "import time\n",
    "import math\n",
    "\n",
    "n_iters = 100000\n",
    "print_every = 5000\n",
    "plot_every = 1000\n",
    "\n",
    "\n",
    "# Keep track of losses for plotting\n",
    "current_loss = 0\n",
    "all_losses = []\n",
    "\n",
    "\n",
    "def timeSince(since):\n",
    "    now = time.time()\n",
    "    s = now - since\n",
    "    m = math.floor(s / 60)\n",
    "    s -= m * 60\n",
    "    return \"%dm %ds\" % (m, s)\n",
    "\n",
    "\n",
    "start = time.time()\n",
    "\n",
    "for iter in range(1, n_iters + 1):\n",
    "    category, line, category_tensor, line_tensor = randomTrainingExample()\n",
    "    output, loss = train(category_tensor, line_tensor)\n",
    "    current_loss += loss\n",
    "\n",
    "    # Print ``iter`` number, loss, name and guess\n",
    "    if iter % print_every == 0:\n",
    "        guess, guess_i = categoryFromOutput(output)\n",
    "        correct = \"✓\" if guess == category else \"✗ (%s)\" % category\n",
    "        print(\n",
    "            \"%d %d%% (%s) %.4f %s / %s %s\"\n",
    "            % (iter, iter / n_iters * 100, timeSince(start), loss, line, guess, correct)\n",
    "        )\n",
    "\n",
    "    # Add current loss avg to list of losses\n",
    "    if iter % plot_every == 0:\n",
    "        all_losses.append(current_loss / plot_every)\n",
    "        current_loss = 0"
   ]
  },
  {
   "cell_type": "code",
   "execution_count": 15,
   "metadata": {},
   "outputs": [
    {
     "data": {
      "text/plain": [
       "[<matplotlib.lines.Line2D at 0x127c06280>]"
      ]
     },
     "execution_count": 15,
     "metadata": {},
     "output_type": "execute_result"
    },
    {
     "data": {
      "image/png": "[encoded data removed]",
      "text/plain": [
       "<Figure size 640x480 with 1 Axes>"
      ]
     },
     "metadata": {},
     "output_type": "display_data"
    }
   ],
   "source": [
    "import matplotlib.pyplot as plt\n",
    "import matplotlib.ticker as ticker\n",
    "\n",
    "plt.figure()\n",
    "plt.plot(all_losses)"
   ]
  },
  {
   "cell_type": "code",
   "execution_count": 16,
   "metadata": {},
   "outputs": [
    {
     "name": "stderr",
     "output_type": "stream",
     "text": [
      "/var/folders/62/sqk699ld69v13ny7hdx8n4980000gn/T/ipykernel_29472/2887250372.py:35: UserWarning: set_ticklabels() should only be used with a fixed number of ticks, i.e. after set_ticks() or using a FixedLocator.\n",
      "  ax.set_xticklabels([\"\"] + all_categories, rotation=90)\n",
      "/var/folders/62/sqk699ld69v13ny7hdx8n4980000gn/T/ipykernel_29472/2887250372.py:36: UserWarning: set_ticklabels() should only be used with a fixed number of ticks, i.e. after set_ticks() or using a FixedLocator.\n",
      "  ax.set_yticklabels([\"\"] + all_categories)\n"
     ]
    },
    {
     "data": {
      "image/png": "[encoded data removed]",
      "text/plain": [
       "<Figure size 640x480 with 2 Axes>"
      ]
     },
     "metadata": {},
     "output_type": "display_data"
    }
   ],
   "source": [
    "# Keep track of correct guesses in a confusion matrix\n",
    "confusion = torch.zeros(n_categories, n_categories)\n",
    "n_confusion = 10000\n",
    "\n",
    "\n",
    "# Just return an output given a line\n",
    "def evaluate(line_tensor):\n",
    "    hidden = rnn.initHidden()\n",
    "\n",
    "    for i in range(line_tensor.size()[0]):\n",
    "        output, hidden = rnn(line_tensor[i], hidden)\n",
    "\n",
    "    return output\n",
    "\n",
    "\n",
    "# Go through a bunch of examples and record which are correctly guessed\n",
    "for i in range(n_confusion):\n",
    "    category, line, category_tensor, line_tensor = randomTrainingExample()\n",
    "    output = evaluate(line_tensor)\n",
    "    guess, guess_i = categoryFromOutput(output)\n",
    "    category_i = all_categories.index(category)\n",
    "    confusion[category_i][guess_i] += 1\n",
    "\n",
    "# Normalize by dividing every row by its sum\n",
    "for i in range(n_categories):\n",
    "    confusion[i] = confusion[i] / confusion[i].sum()\n",
    "\n",
    "# Set up plot\n",
    "fig = plt.figure()\n",
    "ax = fig.add_subplot(111)\n",
    "cax = ax.matshow(confusion.numpy())\n",
    "fig.colorbar(cax)\n",
    "\n",
    "# Set up axes\n",
    "ax.set_xticklabels([\"\"] + all_categories, rotation=90)\n",
    "ax.set_yticklabels([\"\"] + all_categories)\n",
    "\n",
    "# Force label at every tick\n",
    "ax.xaxis.set_major_locator(ticker.MultipleLocator(1))\n",
    "ax.yaxis.set_major_locator(ticker.MultipleLocator(1))\n",
    "\n",
    "# sphinx_gallery_thumbnail_number = 2\n",
    "plt.show()"
   ]
  },
  {
   "cell_type": "code",
   "execution_count": 17,
   "metadata": {},
   "outputs": [
    {
     "name": "stdout",
     "output_type": "stream",
     "text": [
      "\n",
      "> Dovesky\n",
      "(-0.39) Russian\n",
      "(-1.32) Czech\n",
      "(-3.72) English\n",
      "\n",
      "> Jackson\n",
      "(-0.67) Scottish\n",
      "(-2.03) English\n",
      "(-2.10) Russian\n",
      "\n",
      "> Satoshi\n",
      "(-0.63) Japanese\n",
      "(-1.48) Polish\n",
      "(-1.88) Arabic\n"
     ]
    }
   ],
   "source": [
    "def predict(input_line, n_predictions=3):\n",
    "    print(\"\\n> %s\" % input_line)\n",
    "    with torch.no_grad():\n",
    "        output = evaluate(lineToTensor(input_line))\n",
    "\n",
    "        # Get top N categories\n",
    "        topv, topi = output.topk(n_predictions, 1, True)\n",
    "        predictions = []\n",
    "\n",
    "        for i in range(n_predictions):\n",
    "            value = topv[0][i].item()\n",
    "            category_index = topi[0][i].item()\n",
    "            print(\"(%.2f) %s\" % (value, all_categories[category_index]))\n",
    "            predictions.append([value, all_categories[category_index]])\n",
    "\n",
    "\n",
    "predict(\"Dovesky\")\n",
    "predict(\"Jackson\")\n",
    "predict(\"Satoshi\")"
   ]
  },
  {
   "cell_type": "code",
   "execution_count": 18,
   "metadata": {},
   "outputs": [
    {
     "name": "stdout",
     "output_type": "stream",
     "text": [
      "\n",
      "> Deependu\n",
      "(-1.10) French\n",
      "(-1.82) German\n",
      "(-1.90) Dutch\n",
      "\n",
      "> Nepali\n",
      "(-0.98) Arabic\n",
      "(-1.12) Italian\n",
      "(-2.15) Polish\n"
     ]
    }
   ],
   "source": [
    "predict(\"Deependu\")\n",
    "predict(\"Nepali\")"
   ]
  },
  {
   "cell_type": "markdown",
   "metadata": {},
   "source": [
    "## Save model"
   ]
  },
  {
   "cell_type": "code",
   "execution_count": 19,
   "metadata": {},
   "outputs": [],
   "source": [
    "import torch\n",
    "\n",
    "torch.save(rnn, \"rnn.pth\")\n",
    "torch.save(rnn.state_dict(), \"rnn_state_dict.pth\")"
   ]
  },
  {
   "cell_type": "markdown",
   "metadata": {},
   "source": [
    "---\n",
    "\n",
    "## load model"
   ]
  },
  {
   "cell_type": "code",
   "execution_count": 20,
   "metadata": {},
   "outputs": [
    {
     "data": {
      "text/plain": [
       "RNN(\n",
       "  (i2h): Linear(in_features=185, out_features=128, bias=True)\n",
       "  (h2o): Linear(in_features=128, out_features=18, bias=True)\n",
       "  (softmax): LogSoftmax(dim=1)\n",
       ")"
      ]
     },
     "execution_count": 20,
     "metadata": {},
     "output_type": "execute_result"
    }
   ],
   "source": [
    "import torch\n",
    "\n",
    "my_loaded_rnn_model = torch.load(\"rnn.pth\")\n",
    "\n",
    "my_loaded_rnn_model"
   ]
  },
  {
   "cell_type": "code",
   "execution_count": 21,
   "metadata": {},
   "outputs": [],
   "source": [
    "my_loaded_rnn_model_with_state_dict = torch.load(\"rnn_state_dict.pth\")"
   ]
  },
  {
   "cell_type": "code",
   "execution_count": 22,
   "metadata": {},
   "outputs": [
    {
     "data": {
      "text/plain": [
       "OrderedDict([('i2h.weight',\n",
       "              tensor([[-0.1186,  0.0208,  0.0456,  ..., -0.0008, -0.0880, -0.0063],\n",
       "                      [ 0.0341,  0.0733,  0.1771,  ..., -0.0148,  0.0531, -0.0929],\n",
       "                      [-0.2279,  0.0754, -0.2669,  ...,  0.0497, -0.0657,  0.0284],\n",
       "                      ...,\n",
       "                      [-0.3043,  0.0292, -0.0949,  ..., -0.0077, -0.0067,  0.0219],\n",
       "                      [ 0.3107,  0.0412, -0.3600,  ..., -0.0033, -0.0755, -0.1084],\n",
       "                      [-0.0760, -0.0407, -0.0052,  ...,  0.0717,  0.0875,  0.0889]])),\n",
       "             ('i2h.bias',\n",
       "              tensor([ 0.0246, -0.0169,  0.1112, -0.0146,  0.0561,  0.0267,  0.1319,  0.0127,\n",
       "                      -0.0108, -0.0158,  0.0828,  0.0404, -0.0653,  0.0053,  0.0681, -0.0448,\n",
       "                      -0.0509, -0.0017, -0.0502,  0.0274,  0.0274, -0.0321,  0.0181,  0.0516,\n",
       "                       0.0724,  0.0401,  0.1315, -0.0291, -0.0211,  0.0846, -0.1098, -0.0904,\n",
       "                      -0.0542, -0.0347,  0.0324,  0.0146,  0.0051, -0.0421,  0.0874,  0.0064,\n",
       "                       0.0406, -0.0769, -0.0278, -0.0598, -0.0292, -0.0410,  0.0409, -0.0878,\n",
       "                      -0.0055,  0.0099, -0.0707,  0.0279,  0.0062,  0.0266, -0.0763, -0.0144,\n",
       "                       0.0483, -0.0941,  0.0072, -0.0795, -0.0259,  0.0800, -0.0156,  0.1298,\n",
       "                      -0.0161,  0.0339,  0.0388, -0.0020,  0.0058, -0.0880,  0.0100,  0.0312,\n",
       "                      -0.0321,  0.0582,  0.0675, -0.0150, -0.0958, -0.0249,  0.0889, -0.0482,\n",
       "                      -0.0284, -0.0664,  0.0191, -0.0232,  0.0107,  0.0831, -0.0208,  0.0528,\n",
       "                      -0.0430, -0.0569,  0.0277,  0.0340,  0.0075, -0.0758,  0.0196, -0.1430,\n",
       "                      -0.0529, -0.0152,  0.0586, -0.1032,  0.0927, -0.0126,  0.0641, -0.0650,\n",
       "                      -0.0209, -0.0196, -0.0030,  0.0953, -0.0047,  0.0327, -0.0369,  0.0053,\n",
       "                      -0.0589,  0.0207, -0.0383, -0.0519, -0.0635, -0.0069, -0.0650, -0.0296,\n",
       "                       0.0033, -0.0133, -0.0526,  0.0316,  0.0056,  0.0936, -0.0463,  0.0080])),\n",
       "             ('h2o.weight',\n",
       "              tensor([[ 0.1048,  0.1460,  0.0659,  ...,  0.2439,  0.0608, -0.0982],\n",
       "                      [ 0.0591,  0.1338,  0.1447,  ...,  0.2677,  0.0015, -0.1118],\n",
       "                      [ 0.0884, -0.1416, -0.1289,  ..., -0.1250,  0.3285, -0.2586],\n",
       "                      ...,\n",
       "                      [-0.0393,  0.2143,  0.2260,  ...,  0.0333, -0.2588,  0.1253],\n",
       "                      [ 0.2705, -0.8544,  0.6405,  ..., -0.4900,  0.5737,  0.2961],\n",
       "                      [-0.0119, -0.1928, -0.0431,  ...,  0.2198,  0.0392, -0.1038]])),\n",
       "             ('h2o.bias',\n",
       "              tensor([ 0.5934,  0.3768,  0.1764, -0.2057,  0.0527,  0.1987, -0.0922,  0.1366,\n",
       "                       0.1181,  0.4428,  0.0611, -0.9713, -0.3361, -0.4627, -0.0995,  0.1534,\n",
       "                       0.4529, -0.1964]))])"
      ]
     },
     "execution_count": 22,
     "metadata": {},
     "output_type": "execute_result"
    }
   ],
   "source": [
    "my_loaded_rnn_model_with_state_dict"
   ]
  },
  {
   "cell_type": "code",
   "execution_count": 23,
   "metadata": {},
   "outputs": [
    {
     "data": {
      "text/plain": [
       "[2.883557644367218,\n",
       " 2.8575363569259644,\n",
       " 2.818021274805069,\n",
       " 2.7642511074543,\n",
       " 2.6184724360108373]"
      ]
     },
     "execution_count": 23,
     "metadata": {},
     "output_type": "execute_result"
    }
   ],
   "source": [
    "all_losses[:5]"
   ]
  }
 ],
 "metadata": {
  "kernelspec": {
   "display_name": "env",
   "language": "python",
   "name": "python3"
  },
  "language_info": {
   "codemirror_mode": {
    "name": "ipython",
    "version": 3
   },
   "file_extension": ".py",
   "mimetype": "text/x-python",
   "name": "python",
   "nbconvert_exporter": "python",
   "pygments_lexer": "ipython3",
   "version": "3.9.6"
  }
 },
 "nbformat": 4,
 "nbformat_minor": 2
}
